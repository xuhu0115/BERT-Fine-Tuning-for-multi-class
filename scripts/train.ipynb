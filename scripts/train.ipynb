{
 "cells": [
  {
   "cell_type": "markdown",
   "metadata": {},
   "source": [
    "## 数据处理"
   ]
  },
  {
   "cell_type": "code",
   "execution_count": 1,
   "metadata": {},
   "outputs": [],
   "source": [
    "#!pip install pandas\n",
    "import pandas as pd\n",
    "from matplotlib import pyplot as plt "
   ]
  },
  {
   "cell_type": "code",
   "execution_count": 3,
   "metadata": {},
   "outputs": [
    {
     "name": "stdout",
     "output_type": "stream",
     "text": [
      "Collecting openpyxl\n",
      "  Downloading openpyxl-3.1.2-py2.py3-none-any.whl (249 kB)\n",
      "\u001b[2K     \u001b[90m━━━━━━━━━━━━━━━━━━━━━━━━━━━━━━━━━━━━━\u001b[0m \u001b[32m250.0/250.0 kB\u001b[0m \u001b[31m219.0 kB/s\u001b[0m eta \u001b[36m0:00:00\u001b[0ma \u001b[36m0:00:01\u001b[0m\n",
      "\u001b[?25hCollecting et-xmlfile\n",
      "  Downloading et_xmlfile-1.1.0-py3-none-any.whl (4.7 kB)\n",
      "Installing collected packages: et-xmlfile, openpyxl\n",
      "Successfully installed et-xmlfile-1.1.0 openpyxl-3.1.2\n"
     ]
    }
   ],
   "source": [
    "!pip install openpyxl"
   ]
  },
  {
   "cell_type": "code",
   "execution_count": 4,
   "metadata": {},
   "outputs": [],
   "source": [
    "# 读取Excel文件\n",
    "file_path = \"../data/功能段分类参考1230.xlsx\"\n",
    "df = pd.read_excel(file_path,index_col=0)"
   ]
  },
  {
   "cell_type": "code",
   "execution_count": 5,
   "metadata": {},
   "outputs": [
    {
     "data": {
      "text/html": [
       "<div>\n",
       "<style scoped>\n",
       "    .dataframe tbody tr th:only-of-type {\n",
       "        vertical-align: middle;\n",
       "    }\n",
       "\n",
       "    .dataframe tbody tr th {\n",
       "        vertical-align: top;\n",
       "    }\n",
       "\n",
       "    .dataframe thead th {\n",
       "        text-align: right;\n",
       "    }\n",
       "</style>\n",
       "<table border=\"1\" class=\"dataframe\">\n",
       "  <thead>\n",
       "    <tr style=\"text-align: right;\">\n",
       "      <th></th>\n",
       "      <th>Title</th>\n",
       "      <th>Research Question 研究问题功能段</th>\n",
       "      <th>Transition I 背景类过渡段</th>\n",
       "      <th>Transition II 项目类过渡段</th>\n",
       "      <th>Transition III 文献类过渡段</th>\n",
       "      <th>Research Desgin 研究设计功能段</th>\n",
       "      <th>Research Finding 研究发现功能段</th>\n",
       "      <th>Marginal Contribution 边际贡献功能段（汇总）</th>\n",
       "      <th>Section 章节安排功能段</th>\n",
       "    </tr>\n",
       "  </thead>\n",
       "  <tbody>\n",
       "    <tr>\n",
       "      <th>1</th>\n",
       "      <td>Across a few prohibitive miles: The impact of ...</td>\n",
       "      <td>1：\\nTo lift nearly 100 million impoverished ru...</td>\n",
       "      <td>NaN</td>\n",
       "      <td>2：\\nThe government launched the APRP to facili...</td>\n",
       "      <td>NaN</td>\n",
       "      <td>5：\\nA conceptual framework is thus adopted tha...</td>\n",
       "      <td>7：\\nIn addition to a positive ATT, we document...</td>\n",
       "      <td>10：\\nThis study is related to a wide range of ...</td>\n",
       "      <td>13：\\nThe remainder of the paper is organized a...</td>\n",
       "    </tr>\n",
       "    <tr>\n",
       "      <th>2</th>\n",
       "      <td>Armed groups: Competition and political violence</td>\n",
       "      <td>1：\\nThe proliferation of armed groups is often...</td>\n",
       "      <td>NaN</td>\n",
       "      <td>NaN</td>\n",
       "      <td>2：\\nAn additional armed group is likely to inc...</td>\n",
       "      <td>4：\\nThis paper provides quasi-experimental evi...</td>\n",
       "      <td>6：\\nWe estimate that an additional active arme...</td>\n",
       "      <td>10：\\nWe contribute to various strands of the l...</td>\n",
       "      <td>13：\\nThe remainder of the paper is structured ...</td>\n",
       "    </tr>\n",
       "    <tr>\n",
       "      <th>3</th>\n",
       "      <td>Conflict and reciprocity: A study with Palesti...</td>\n",
       "      <td>1：\\nReciprocity, as the practice of behaving t...</td>\n",
       "      <td>NaN</td>\n",
       "      <td>NaN</td>\n",
       "      <td>2：\\nReciprocity can support cooperation: it ca...</td>\n",
       "      <td>5：\\nIn this paper, we present an observational...</td>\n",
       "      <td>7：\\nComparing individuals going to the same sc...</td>\n",
       "      <td>8：\\nA strength of our paper is that it intenti...</td>\n",
       "      <td>12：\\nThe remaining of the paper is as follows....</td>\n",
       "    </tr>\n",
       "    <tr>\n",
       "      <th>4</th>\n",
       "      <td>Exposure to collective gender-based violence c...</td>\n",
       "      <td>1：\\nWhy do so many men harm their intimate par...</td>\n",
       "      <td>3：\\nThis paper studies the causal long-run imp...</td>\n",
       "      <td>NaN</td>\n",
       "      <td>2:\\nMost existing research into the drivers of...</td>\n",
       "      <td>5：\\nTheoretically, it is a priori unclear whet...</td>\n",
       "      <td>10：\\nOur central result is that a man ’s expos...</td>\n",
       "      <td>12：\\nOur theoretical arguments and empirical f...</td>\n",
       "      <td>17：\\nThe rest of the paper is organized as fol...</td>\n",
       "    </tr>\n",
       "    <tr>\n",
       "      <th>5</th>\n",
       "      <td>Learning by searching: Spatial mismatches and ...</td>\n",
       "      <td>1:\\nUnemployment rates for young job-seekers r...</td>\n",
       "      <td>NaN</td>\n",
       "      <td>NaN</td>\n",
       "      <td>2：\\nIn an attempt to identify the labour marke...</td>\n",
       "      <td>3:\\nOur experiment takes place in Johannesburg...</td>\n",
       "      <td>6：\\nWe find that providing job search subsidie...</td>\n",
       "      <td>8：\\nOur findings sit at the intersection of se...</td>\n",
       "      <td>NaN</td>\n",
       "    </tr>\n",
       "  </tbody>\n",
       "</table>\n",
       "</div>"
      ],
      "text/plain": [
       "                                               Title  \\\n",
       "1  Across a few prohibitive miles: The impact of ...   \n",
       "2   Armed groups: Competition and political violence   \n",
       "3  Conflict and reciprocity: A study with Palesti...   \n",
       "4  Exposure to collective gender-based violence c...   \n",
       "5  Learning by searching: Spatial mismatches and ...   \n",
       "\n",
       "                           Research Question 研究问题功能段  \\\n",
       "1  1：\\nTo lift nearly 100 million impoverished ru...   \n",
       "2  1：\\nThe proliferation of armed groups is often...   \n",
       "3  1：\\nReciprocity, as the practice of behaving t...   \n",
       "4  1：\\nWhy do so many men harm their intimate par...   \n",
       "5  1:\\nUnemployment rates for young job-seekers r...   \n",
       "\n",
       "                                 Transition I 背景类过渡段  \\\n",
       "1                                                NaN   \n",
       "2                                                NaN   \n",
       "3                                                NaN   \n",
       "4  3：\\nThis paper studies the causal long-run imp...   \n",
       "5                                                NaN   \n",
       "\n",
       "                                Transition II 项目类过渡段  \\\n",
       "1  2：\\nThe government launched the APRP to facili...   \n",
       "2                                                NaN   \n",
       "3                                                NaN   \n",
       "4                                                NaN   \n",
       "5                                                NaN   \n",
       "\n",
       "                               Transition III 文献类过渡段  \\\n",
       "1                                                NaN   \n",
       "2  2：\\nAn additional armed group is likely to inc...   \n",
       "3  2：\\nReciprocity can support cooperation: it ca...   \n",
       "4  2:\\nMost existing research into the drivers of...   \n",
       "5  2：\\nIn an attempt to identify the labour marke...   \n",
       "\n",
       "                             Research Desgin 研究设计功能段  \\\n",
       "1  5：\\nA conceptual framework is thus adopted tha...   \n",
       "2  4：\\nThis paper provides quasi-experimental evi...   \n",
       "3  5：\\nIn this paper, we present an observational...   \n",
       "4  5：\\nTheoretically, it is a priori unclear whet...   \n",
       "5  3:\\nOur experiment takes place in Johannesburg...   \n",
       "\n",
       "                            Research Finding 研究发现功能段  \\\n",
       "1  7：\\nIn addition to a positive ATT, we document...   \n",
       "2  6：\\nWe estimate that an additional active arme...   \n",
       "3  7：\\nComparing individuals going to the same sc...   \n",
       "4  10：\\nOur central result is that a man ’s expos...   \n",
       "5  6：\\nWe find that providing job search subsidie...   \n",
       "\n",
       "                   Marginal Contribution 边际贡献功能段（汇总）  \\\n",
       "1  10：\\nThis study is related to a wide range of ...   \n",
       "2  10：\\nWe contribute to various strands of the l...   \n",
       "3  8：\\nA strength of our paper is that it intenti...   \n",
       "4  12：\\nOur theoretical arguments and empirical f...   \n",
       "5  8：\\nOur findings sit at the intersection of se...   \n",
       "\n",
       "                                     Section 章节安排功能段  \n",
       "1  13：\\nThe remainder of the paper is organized a...  \n",
       "2  13：\\nThe remainder of the paper is structured ...  \n",
       "3  12：\\nThe remaining of the paper is as follows....  \n",
       "4  17：\\nThe rest of the paper is organized as fol...  \n",
       "5                                                NaN  "
      ]
     },
     "execution_count": 5,
     "metadata": {},
     "output_type": "execute_result"
    }
   ],
   "source": [
    "df.head()"
   ]
  },
  {
   "cell_type": "code",
   "execution_count": 6,
   "metadata": {},
   "outputs": [],
   "source": [
    "result_data = []\n",
    "\n",
    "# Iterate through rows of the original DataFrame\n",
    "for index, row in df.iterrows():\n",
    "    title = row['Title']\n",
    "    research_question = row['Research Question 研究问题功能段']\n",
    "    transition_i = row['Transition I 背景类过渡段']\n",
    "    transition_ii = row['Transition II 项目类过渡段']\n",
    "    transition_iii = row['Transition III 文献类过渡段']\n",
    "    research_design = row['Research Desgin 研究设计功能段']\n",
    "    research_finding = row['Research Finding 研究发现功能段']\n",
    "    marginal_contribution = row['Marginal Contribution 边际贡献功能段（汇总）']\n",
    "    section = row['Section 章节安排功能段']\n",
    "\n",
    "    # Append each row as a dictionary to the result_data list\n",
    "    result_data.append({'sentences': title, 'name': 'Title'})\n",
    "    result_data.append({'sentences': research_question, 'name': 'Research Question 研究问题功能段'})\n",
    "    result_data.append({'sentences': transition_i, 'name': 'Transition I 背景类过渡段'})\n",
    "    result_data.append({'sentences': transition_ii, 'name': 'Transition II 项目类过渡段'})\n",
    "    result_data.append({'sentences': transition_iii, 'name': 'Transition III 文献类过渡段'})\n",
    "    result_data.append({'sentences': research_design, 'name': 'Research Desgin 研究设计功能段'})\n",
    "    result_data.append({'sentences': research_finding, 'name': 'Research Finding 研究发现功能段'})\n",
    "    result_data.append({'sentences': marginal_contribution, 'name': 'Marginal Contribution 边际贡献功能段（汇总）'})\n",
    "    result_data.append({'sentences': section, 'name': 'Section 章节安排功能段'})\n",
    "\n",
    "# Convert the list of dictionaries to a DataFrame\n",
    "result_df = pd.DataFrame(result_data)\n",
    "\n",
    "# Save the result DataFrame to a new Excel file\n",
    "result_df.to_csv('../data/formatted_data.csv', index=False)"
   ]
  },
  {
   "cell_type": "code",
   "execution_count": 7,
   "metadata": {},
   "outputs": [
    {
     "data": {
      "text/html": [
       "<div>\n",
       "<style scoped>\n",
       "    .dataframe tbody tr th:only-of-type {\n",
       "        vertical-align: middle;\n",
       "    }\n",
       "\n",
       "    .dataframe tbody tr th {\n",
       "        vertical-align: top;\n",
       "    }\n",
       "\n",
       "    .dataframe thead th {\n",
       "        text-align: right;\n",
       "    }\n",
       "</style>\n",
       "<table border=\"1\" class=\"dataframe\">\n",
       "  <thead>\n",
       "    <tr style=\"text-align: right;\">\n",
       "      <th></th>\n",
       "      <th>sentences</th>\n",
       "      <th>name</th>\n",
       "    </tr>\n",
       "  </thead>\n",
       "  <tbody>\n",
       "    <tr>\n",
       "      <th>0</th>\n",
       "      <td>Across a few prohibitive miles: The impact of ...</td>\n",
       "      <td>Title</td>\n",
       "    </tr>\n",
       "    <tr>\n",
       "      <th>1</th>\n",
       "      <td>1：\\nTo lift nearly 100 million impoverished ru...</td>\n",
       "      <td>Research Question 研究问题功能段</td>\n",
       "    </tr>\n",
       "    <tr>\n",
       "      <th>2</th>\n",
       "      <td>NaN</td>\n",
       "      <td>Transition I 背景类过渡段</td>\n",
       "    </tr>\n",
       "    <tr>\n",
       "      <th>3</th>\n",
       "      <td>2：\\nThe government launched the APRP to facili...</td>\n",
       "      <td>Transition II 项目类过渡段</td>\n",
       "    </tr>\n",
       "    <tr>\n",
       "      <th>4</th>\n",
       "      <td>NaN</td>\n",
       "      <td>Transition III 文献类过渡段</td>\n",
       "    </tr>\n",
       "    <tr>\n",
       "      <th>5</th>\n",
       "      <td>5：\\nA conceptual framework is thus adopted tha...</td>\n",
       "      <td>Research Desgin 研究设计功能段</td>\n",
       "    </tr>\n",
       "    <tr>\n",
       "      <th>6</th>\n",
       "      <td>7：\\nIn addition to a positive ATT, we document...</td>\n",
       "      <td>Research Finding 研究发现功能段</td>\n",
       "    </tr>\n",
       "    <tr>\n",
       "      <th>7</th>\n",
       "      <td>10：\\nThis study is related to a wide range of ...</td>\n",
       "      <td>Marginal Contribution 边际贡献功能段（汇总）</td>\n",
       "    </tr>\n",
       "    <tr>\n",
       "      <th>8</th>\n",
       "      <td>13：\\nThe remainder of the paper is organized a...</td>\n",
       "      <td>Section 章节安排功能段</td>\n",
       "    </tr>\n",
       "    <tr>\n",
       "      <th>9</th>\n",
       "      <td>Armed groups: Competition and political violence</td>\n",
       "      <td>Title</td>\n",
       "    </tr>\n",
       "    <tr>\n",
       "      <th>10</th>\n",
       "      <td>1：\\nThe proliferation of armed groups is often...</td>\n",
       "      <td>Research Question 研究问题功能段</td>\n",
       "    </tr>\n",
       "    <tr>\n",
       "      <th>11</th>\n",
       "      <td>NaN</td>\n",
       "      <td>Transition I 背景类过渡段</td>\n",
       "    </tr>\n",
       "    <tr>\n",
       "      <th>12</th>\n",
       "      <td>NaN</td>\n",
       "      <td>Transition II 项目类过渡段</td>\n",
       "    </tr>\n",
       "    <tr>\n",
       "      <th>13</th>\n",
       "      <td>2：\\nAn additional armed group is likely to inc...</td>\n",
       "      <td>Transition III 文献类过渡段</td>\n",
       "    </tr>\n",
       "    <tr>\n",
       "      <th>14</th>\n",
       "      <td>4：\\nThis paper provides quasi-experimental evi...</td>\n",
       "      <td>Research Desgin 研究设计功能段</td>\n",
       "    </tr>\n",
       "    <tr>\n",
       "      <th>15</th>\n",
       "      <td>6：\\nWe estimate that an additional active arme...</td>\n",
       "      <td>Research Finding 研究发现功能段</td>\n",
       "    </tr>\n",
       "    <tr>\n",
       "      <th>16</th>\n",
       "      <td>10：\\nWe contribute to various strands of the l...</td>\n",
       "      <td>Marginal Contribution 边际贡献功能段（汇总）</td>\n",
       "    </tr>\n",
       "    <tr>\n",
       "      <th>17</th>\n",
       "      <td>13：\\nThe remainder of the paper is structured ...</td>\n",
       "      <td>Section 章节安排功能段</td>\n",
       "    </tr>\n",
       "    <tr>\n",
       "      <th>18</th>\n",
       "      <td>Conflict and reciprocity: A study with Palesti...</td>\n",
       "      <td>Title</td>\n",
       "    </tr>\n",
       "    <tr>\n",
       "      <th>19</th>\n",
       "      <td>1：\\nReciprocity, as the practice of behaving t...</td>\n",
       "      <td>Research Question 研究问题功能段</td>\n",
       "    </tr>\n",
       "  </tbody>\n",
       "</table>\n",
       "</div>"
      ],
      "text/plain": [
       "                                            sentences  \\\n",
       "0   Across a few prohibitive miles: The impact of ...   \n",
       "1   1：\\nTo lift nearly 100 million impoverished ru...   \n",
       "2                                                 NaN   \n",
       "3   2：\\nThe government launched the APRP to facili...   \n",
       "4                                                 NaN   \n",
       "5   5：\\nA conceptual framework is thus adopted tha...   \n",
       "6   7：\\nIn addition to a positive ATT, we document...   \n",
       "7   10：\\nThis study is related to a wide range of ...   \n",
       "8   13：\\nThe remainder of the paper is organized a...   \n",
       "9    Armed groups: Competition and political violence   \n",
       "10  1：\\nThe proliferation of armed groups is often...   \n",
       "11                                                NaN   \n",
       "12                                                NaN   \n",
       "13  2：\\nAn additional armed group is likely to inc...   \n",
       "14  4：\\nThis paper provides quasi-experimental evi...   \n",
       "15  6：\\nWe estimate that an additional active arme...   \n",
       "16  10：\\nWe contribute to various strands of the l...   \n",
       "17  13：\\nThe remainder of the paper is structured ...   \n",
       "18  Conflict and reciprocity: A study with Palesti...   \n",
       "19  1：\\nReciprocity, as the practice of behaving t...   \n",
       "\n",
       "                                 name  \n",
       "0                               Title  \n",
       "1           Research Question 研究问题功能段  \n",
       "2                 Transition I 背景类过渡段  \n",
       "3                Transition II 项目类过渡段  \n",
       "4               Transition III 文献类过渡段  \n",
       "5             Research Desgin 研究设计功能段  \n",
       "6            Research Finding 研究发现功能段  \n",
       "7   Marginal Contribution 边际贡献功能段（汇总）  \n",
       "8                     Section 章节安排功能段  \n",
       "9                               Title  \n",
       "10          Research Question 研究问题功能段  \n",
       "11                Transition I 背景类过渡段  \n",
       "12               Transition II 项目类过渡段  \n",
       "13              Transition III 文献类过渡段  \n",
       "14            Research Desgin 研究设计功能段  \n",
       "15           Research Finding 研究发现功能段  \n",
       "16  Marginal Contribution 边际贡献功能段（汇总）  \n",
       "17                    Section 章节安排功能段  \n",
       "18                              Title  \n",
       "19          Research Question 研究问题功能段  "
      ]
     },
     "execution_count": 7,
     "metadata": {},
     "output_type": "execute_result"
    }
   ],
   "source": [
    "result_df.head(20)"
   ]
  },
  {
   "cell_type": "code",
   "execution_count": 8,
   "metadata": {},
   "outputs": [
    {
     "data": {
      "text/plain": [
       "846"
      ]
     },
     "execution_count": 8,
     "metadata": {},
     "output_type": "execute_result"
    }
   ],
   "source": [
    "len(result_df)"
   ]
  },
  {
   "cell_type": "code",
   "execution_count": 9,
   "metadata": {},
   "outputs": [
    {
     "data": {
      "text/plain": [
       "616"
      ]
     },
     "execution_count": 9,
     "metadata": {},
     "output_type": "execute_result"
    }
   ],
   "source": [
    "# 如果值为nan，那么删除此条数据\n",
    "new_result_df  = result_df.dropna(subset=[\"sentences\"])\n",
    "len(new_result_df)        \n"
   ]
  },
  {
   "cell_type": "markdown",
   "metadata": {},
   "source": [
    "name                          labels                           \n",
    "Title                                0  \n",
    "Research Question 研究问题功能段            1  \n",
    "Research Finding 研究发现功能段             2  \n",
    "Research Desgin 研究设计功能段              3  \n",
    "Section 章节安排功能段                      4  \n",
    "Marginal Contribution 边际贡献功能段（汇总）   5  \n",
    "Transition III 文献类过渡段                6  \n",
    "Transition I 背景类过渡段                  7  \n",
    "Transition II 项目类过渡段                 8  "
   ]
  },
  {
   "cell_type": "code",
   "execution_count": 10,
   "metadata": {},
   "outputs": [
    {
     "name": "stderr",
     "output_type": "stream",
     "text": [
      "/tmp/ipykernel_20523/4184537897.py:15: SettingWithCopyWarning: \n",
      "A value is trying to be set on a copy of a slice from a DataFrame.\n",
      "Try using .loc[row_indexer,col_indexer] = value instead\n",
      "\n",
      "See the caveats in the documentation: https://pandas.pydata.org/pandas-docs/stable/user_guide/indexing.html#returning-a-view-versus-a-copy\n",
      "  new_result_df['labels'] = new_result_df['name'].map(label_mapping)\n"
     ]
    }
   ],
   "source": [
    "\n",
    "# 定义映射关系字典\n",
    "label_mapping = {\n",
    "    'Title': 0,\n",
    "    'Research Question 研究问题功能段': 1,\n",
    "    'Research Finding 研究发现功能段': 2,\n",
    "    'Research Desgin 研究设计功能段': 3,\n",
    "    'Section 章节安排功能段': 4,\n",
    "    'Marginal Contribution 边际贡献功能段（汇总）': 5,\n",
    "    'Transition III 文献类过渡段': 6,\n",
    "    'Transition I 背景类过渡段': 7,\n",
    "    'Transition II 项目类过渡段': 8\n",
    "}\n",
    "\n",
    "# 使用map函数将name映射为labels\n",
    "new_result_df['labels'] = new_result_df['name'].map(label_mapping)"
   ]
  },
  {
   "cell_type": "code",
   "execution_count": 11,
   "metadata": {},
   "outputs": [],
   "source": [
    "new_result_df.to_csv(\"../data/formatted_data_1230.csv\",index=None)"
   ]
  },
  {
   "cell_type": "markdown",
   "metadata": {},
   "source": [
    "## 数据分布情况"
   ]
  },
  {
   "cell_type": "code",
   "execution_count": 12,
   "metadata": {},
   "outputs": [
    {
     "data": {
      "text/plain": [
       "Text(0.5, 0, 'name')"
      ]
     },
     "execution_count": 12,
     "metadata": {},
     "output_type": "execute_result"
    },
    {
     "data": {
      "image/png": "[encoded data removed]",
      "text/plain": [
       "<Figure size 432x288 with 1 Axes>"
      ]
     },
     "metadata": {
      "needs_background": "light"
     },
     "output_type": "display_data"
    }
   ],
   "source": [
    "#new_result_df[\"name\"].value_counts()\n",
    "new_result_df['labels'].value_counts().plot(kind='bar')\n",
    "plt.title('class count')\n",
    "plt.xlabel(\"name\")"
   ]
  },
  {
   "cell_type": "markdown",
   "metadata": {},
   "source": [
    "## 句⼦⻓度分析"
   ]
  },
  {
   "cell_type": "code",
   "execution_count": 13,
   "metadata": {},
   "outputs": [
    {
     "name": "stdout",
     "output_type": "stream",
     "text": [
      "%pylab is deprecated, use %matplotlib inline and import the required libraries.\n",
      "Populating the interactive namespace from numpy and matplotlib\n",
      "count     616.000000\n",
      "mean      226.209416\n",
      "std       208.944603\n",
      "min         3.000000\n",
      "25%        72.000000\n",
      "50%       163.000000\n",
      "75%       348.750000\n",
      "max      1130.000000\n",
      "Name: text_len, dtype: float64\n"
     ]
    },
    {
     "name": "stderr",
     "output_type": "stream",
     "text": [
      "/home/xuhu/miniconda3/envs/peppi/lib/python3.8/site-packages/IPython/core/magics/pylab.py:162: UserWarning: pylab import has clobbered these variables: ['title']\n",
      "`%matplotlib` prevents importing * from pylab and numpy\n",
      "  warn(\"pylab import has clobbered these variables: %s\"  % clobbered +\n",
      "/tmp/ipykernel_20523/4164117013.py:2: SettingWithCopyWarning: \n",
      "A value is trying to be set on a copy of a slice from a DataFrame.\n",
      "Try using .loc[row_indexer,col_indexer] = value instead\n",
      "\n",
      "See the caveats in the documentation: https://pandas.pydata.org/pandas-docs/stable/user_guide/indexing.html#returning-a-view-versus-a-copy\n",
      "  new_result_df['text_len'] = new_result_df['sentences'].apply(lambda x: len(x.split(' ')))\n"
     ]
    }
   ],
   "source": [
    "%pylab inline\n",
    "new_result_df['text_len'] = new_result_df['sentences'].apply(lambda x: len(x.split(' ')))\n",
    "print(new_result_df['text_len'].describe())"
   ]
  },
  {
   "cell_type": "markdown",
   "metadata": {},
   "source": [
    "每个句子平均226个单词组成，最长1130，最短3"
   ]
  },
  {
   "cell_type": "code",
   "execution_count": 14,
   "metadata": {},
   "outputs": [
    {
     "data": {
      "text/plain": [
       "Text(0.5, 1.0, 'Histogram of char count')"
      ]
     },
     "execution_count": 14,
     "metadata": {},
     "output_type": "execute_result"
    },
    {
     "data": {
      "image/png": "[encoded data removed]",
      "text/plain": [
       "<Figure size 432x288 with 1 Axes>"
      ]
     },
     "metadata": {
      "needs_background": "light"
     },
     "output_type": "display_data"
    }
   ],
   "source": [
    "\n",
    "\n",
    "_ = plt.hist(new_result_df['text_len'], bins=200)\n",
    "plt.xlabel('Text char count')\n",
    "plt.title(\"Histogram of char count\")"
   ]
  },
  {
   "cell_type": "markdown",
   "metadata": {},
   "source": [
    "## 字符分布统计\n",
    "\n",
    "统计每个单词出现的次数，将数据集中的所有句子进行拼接进而划分为单词，并统计每个单词的个数"
   ]
  },
  {
   "cell_type": "code",
   "execution_count": 15,
   "metadata": {},
   "outputs": [
    {
     "name": "stdout",
     "output_type": "stream",
     "text": [
      "17804\n",
      "('the', 7514)\n",
      "('subsidy.', 1)\n"
     ]
    }
   ],
   "source": [
    "from collections import Counter\n",
    "all_lines = ' '.join(list(new_result_df['sentences']))\n",
    "word_count = Counter(all_lines.split(\" \"))\n",
    "word_count = sorted(word_count.items(), key=lambda d:d[1], reverse = True)\n",
    "print(len(word_count))\n",
    "# 6869\n",
    "print(word_count[0])\n",
    "# ('3750', 7482224)\n",
    "print(word_count[-1])\n",
    "# ('3133', 1)"
   ]
  },
  {
   "cell_type": "markdown",
   "metadata": {},
   "source": [
    "数据集中总共包括16089个单词，the出现最多6320，organize出现最少1次"
   ]
  },
  {
   "cell_type": "markdown",
   "metadata": {},
   "source": [
    "## 1. 机器学习"
   ]
  },
  {
   "cell_type": "markdown",
   "metadata": {},
   "source": [
    "### 1.1 TF-IDF + 朴素贝叶斯分类器"
   ]
  },
  {
   "cell_type": "code",
   "execution_count": 16,
   "metadata": {},
   "outputs": [],
   "source": [
    "from sklearn.model_selection import train_test_split\n",
    "from sklearn.feature_extraction.text import TfidfVectorizer\n",
    "from sklearn.naive_bayes import MultinomialNB\n",
    "from sklearn.metrics import accuracy_score, classification_report"
   ]
  },
  {
   "cell_type": "code",
   "execution_count": 17,
   "metadata": {},
   "outputs": [],
   "source": [
    "# 划分数据集\n",
    "X_train, X_test, y_train, y_test = train_test_split(new_result_df['sentences'], new_result_df['labels'], test_size=0.2, random_state=42)\n"
   ]
  },
  {
   "cell_type": "code",
   "execution_count": 18,
   "metadata": {},
   "outputs": [],
   "source": [
    "# TF-IDF 特征提取\n",
    "tfidf_vectorizer = TfidfVectorizer(max_features=5000)  # 选择最常见的5000个词\n",
    "X_train_tfidf = tfidf_vectorizer.fit_transform(X_train)\n",
    "X_test_tfidf = tfidf_vectorizer.transform(X_test)"
   ]
  },
  {
   "cell_type": "code",
   "execution_count": 19,
   "metadata": {},
   "outputs": [
    {
     "data": {
      "text/html": [
       "<style>#sk-container-id-1 {color: black;background-color: white;}#sk-container-id-1 pre{padding: 0;}#sk-container-id-1 div.sk-toggleable {background-color: white;}#sk-container-id-1 label.sk-toggleable__label {cursor: pointer;display: block;width: 100%;margin-bottom: 0;padding: 0.3em;box-sizing: border-box;text-align: center;}#sk-container-id-1 label.sk-toggleable__label-arrow:before {content: \"▸\";float: left;margin-right: 0.25em;color: #696969;}#sk-container-id-1 label.sk-toggleable__label-arrow:hover:before {color: black;}#sk-container-id-1 div.sk-estimator:hover label.sk-toggleable__label-arrow:before {color: black;}#sk-container-id-1 div.sk-toggleable__content {max-height: 0;max-width: 0;overflow: hidden;text-align: left;background-color: #f0f8ff;}#sk-container-id-1 div.sk-toggleable__content pre {margin: 0.2em;color: black;border-radius: 0.25em;background-color: #f0f8ff;}#sk-container-id-1 input.sk-toggleable__control:checked~div.sk-toggleable__content {max-height: 200px;max-width: 100%;overflow: auto;}#sk-container-id-1 input.sk-toggleable__control:checked~label.sk-toggleable__label-arrow:before {content: \"▾\";}#sk-container-id-1 div.sk-estimator input.sk-toggleable__control:checked~label.sk-toggleable__label {background-color: #d4ebff;}#sk-container-id-1 div.sk-label input.sk-toggleable__control:checked~label.sk-toggleable__label {background-color: #d4ebff;}#sk-container-id-1 input.sk-hidden--visually {border: 0;clip: rect(1px 1px 1px 1px);clip: rect(1px, 1px, 1px, 1px);height: 1px;margin: -1px;overflow: hidden;padding: 0;position: absolute;width: 1px;}#sk-container-id-1 div.sk-estimator {font-family: monospace;background-color: #f0f8ff;border: 1px dotted black;border-radius: 0.25em;box-sizing: border-box;margin-bottom: 0.5em;}#sk-container-id-1 div.sk-estimator:hover {background-color: #d4ebff;}#sk-container-id-1 div.sk-parallel-item::after {content: \"\";width: 100%;border-bottom: 1px solid gray;flex-grow: 1;}#sk-container-id-1 div.sk-label:hover label.sk-toggleable__label {background-color: #d4ebff;}#sk-container-id-1 div.sk-serial::before {content: \"\";position: absolute;border-left: 1px solid gray;box-sizing: border-box;top: 0;bottom: 0;left: 50%;z-index: 0;}#sk-container-id-1 div.sk-serial {display: flex;flex-direction: column;align-items: center;background-color: white;padding-right: 0.2em;padding-left: 0.2em;position: relative;}#sk-container-id-1 div.sk-item {position: relative;z-index: 1;}#sk-container-id-1 div.sk-parallel {display: flex;align-items: stretch;justify-content: center;background-color: white;position: relative;}#sk-container-id-1 div.sk-item::before, #sk-container-id-1 div.sk-parallel-item::before {content: \"\";position: absolute;border-left: 1px solid gray;box-sizing: border-box;top: 0;bottom: 0;left: 50%;z-index: -1;}#sk-container-id-1 div.sk-parallel-item {display: flex;flex-direction: column;z-index: 1;position: relative;background-color: white;}#sk-container-id-1 div.sk-parallel-item:first-child::after {align-self: flex-end;width: 50%;}#sk-container-id-1 div.sk-parallel-item:last-child::after {align-self: flex-start;width: 50%;}#sk-container-id-1 div.sk-parallel-item:only-child::after {width: 0;}#sk-container-id-1 div.sk-dashed-wrapped {border: 1px dashed gray;margin: 0 0.4em 0.5em 0.4em;box-sizing: border-box;padding-bottom: 0.4em;background-color: white;}#sk-container-id-1 div.sk-label label {font-family: monospace;font-weight: bold;display: inline-block;line-height: 1.2em;}#sk-container-id-1 div.sk-label-container {text-align: center;}#sk-container-id-1 div.sk-container {/* jupyter's `normalize.less` sets `[hidden] { display: none; }` but bootstrap.min.css set `[hidden] { display: none !important; }` so we also need the `!important` here to be able to override the default hidden behavior on the sphinx rendered scikit-learn.org. See: https://github.com/scikit-learn/scikit-learn/issues/21755 */display: inline-block !important;position: relative;}#sk-container-id-1 div.sk-text-repr-fallback {display: none;}</style><div id=\"sk-container-id-1\" class=\"sk-top-container\"><div class=\"sk-text-repr-fallback\"><pre>MultinomialNB()</pre><b>In a Jupyter environment, please rerun this cell to show the HTML representation or trust the notebook. <br />On GitHub, the HTML representation is unable to render, please try loading this page with nbviewer.org.</b></div><div class=\"sk-container\" hidden><div class=\"sk-item\"><div class=\"sk-estimator sk-toggleable\"><input class=\"sk-toggleable__control sk-hidden--visually\" id=\"sk-estimator-id-1\" type=\"checkbox\" checked><label for=\"sk-estimator-id-1\" class=\"sk-toggleable__label sk-toggleable__label-arrow\">MultinomialNB</label><div class=\"sk-toggleable__content\"><pre>MultinomialNB()</pre></div></div></div></div></div>"
      ],
      "text/plain": [
       "MultinomialNB()"
      ]
     },
     "execution_count": 19,
     "metadata": {},
     "output_type": "execute_result"
    }
   ],
   "source": [
    "# 训练朴素贝叶斯分类器\n",
    "clf = MultinomialNB()\n",
    "clf.fit(X_train_tfidf, y_train)"
   ]
  },
  {
   "cell_type": "code",
   "execution_count": 20,
   "metadata": {},
   "outputs": [],
   "source": [
    "# 预测\n",
    "y_pred = clf.predict(X_test_tfidf)"
   ]
  },
  {
   "cell_type": "code",
   "execution_count": 21,
   "metadata": {},
   "outputs": [
    {
     "name": "stdout",
     "output_type": "stream",
     "text": [
      "Accuracy: 0.45161290322580644\n",
      "              precision    recall  f1-score   support\n",
      "\n",
      "           0       1.00      0.22      0.36        18\n",
      "           1       0.31      0.69      0.43        16\n",
      "           2       0.27      1.00      0.43        14\n",
      "           3       0.50      0.06      0.10        18\n",
      "           4       1.00      1.00      1.00        13\n",
      "           5       0.68      0.76      0.72        17\n",
      "           6       0.00      0.00      0.00         9\n",
      "           7       0.00      0.00      0.00        13\n",
      "           8       0.00      0.00      0.00         6\n",
      "\n",
      "    accuracy                           0.45       124\n",
      "   macro avg       0.42      0.41      0.34       124\n",
      "weighted avg       0.49      0.45      0.38       124\n",
      "\n"
     ]
    },
    {
     "name": "stderr",
     "output_type": "stream",
     "text": [
      "/home/xuhu/miniconda3/envs/peppi/lib/python3.8/site-packages/sklearn/metrics/_classification.py:1327: UndefinedMetricWarning: Precision and F-score are ill-defined and being set to 0.0 in labels with no predicted samples. Use `zero_division` parameter to control this behavior.\n",
      "  _warn_prf(average, modifier, msg_start, len(result))\n",
      "/home/xuhu/miniconda3/envs/peppi/lib/python3.8/site-packages/sklearn/metrics/_classification.py:1327: UndefinedMetricWarning: Precision and F-score are ill-defined and being set to 0.0 in labels with no predicted samples. Use `zero_division` parameter to control this behavior.\n",
      "  _warn_prf(average, modifier, msg_start, len(result))\n",
      "/home/xuhu/miniconda3/envs/peppi/lib/python3.8/site-packages/sklearn/metrics/_classification.py:1327: UndefinedMetricWarning: Precision and F-score are ill-defined and being set to 0.0 in labels with no predicted samples. Use `zero_division` parameter to control this behavior.\n",
      "  _warn_prf(average, modifier, msg_start, len(result))\n"
     ]
    }
   ],
   "source": [
    "# 评估模型性能\n",
    "accuracy = accuracy_score(y_test, y_pred)\n",
    "print(f'Accuracy: {accuracy}')\n",
    "print(classification_report(y_test, y_pred))"
   ]
  },
  {
   "cell_type": "markdown",
   "metadata": {},
   "source": [
    "### 1.2 Count Vectors + RidgeClassifier"
   ]
  },
  {
   "cell_type": "code",
   "execution_count": null,
   "metadata": {},
   "outputs": [],
   "source": [
    "import pandas as pd\n",
    "from sklearn.feature_extraction.text import CountVectorizer\n",
    "from sklearn.linear_model import RidgeClassifier\n",
    "from sklearn.metrics import f1_score\n",
    "train_df = pd.read_csv('../input/train_set.csv', sep='\\t', nrows=15000)"
   ]
  },
  {
   "cell_type": "markdown",
   "metadata": {},
   "source": [
    "# BERT"
   ]
  },
  {
   "cell_type": "code",
   "execution_count": 1,
   "metadata": {},
   "outputs": [
    {
     "name": "stderr",
     "output_type": "stream",
     "text": [
      "/home/xuhu/miniconda3/envs/peppi/lib/python3.8/site-packages/tqdm/auto.py:22: TqdmWarning: IProgress not found. Please update jupyter and ipywidgets. See https://ipywidgets.readthedocs.io/en/stable/user_install.html\n",
      "  from .autonotebook import tqdm as notebook_tqdm\n"
     ]
    }
   ],
   "source": [
    "import pandas as pd\n",
    "import torch\n",
    "from torch.utils.data import Dataset, DataLoader\n",
    "from transformers import BertTokenizer, BertForSequenceClassification, AdamW, get_linear_schedule_with_warmup\n",
    "from sklearn.model_selection import train_test_split\n",
    "from sklearn.metrics import accuracy_score\n",
    "from tqdm import tqdm\n"
   ]
  },
  {
   "cell_type": "code",
   "execution_count": 2,
   "metadata": {},
   "outputs": [
    {
     "data": {
      "text/plain": [
       "device(type='cuda')"
      ]
     },
     "execution_count": 2,
     "metadata": {},
     "output_type": "execute_result"
    }
   ],
   "source": [
    "import torch\n",
    "device = torch.device('cuda' if torch.cuda.is_available() else 'cpu')\n",
    "device"
   ]
  },
  {
   "cell_type": "code",
   "execution_count": 3,
   "metadata": {},
   "outputs": [],
   "source": [
    "# 读取数据\n",
    "data_path = \"/home/xuhu/project/littool/data/formatted_data_1230.csv\"  # 替换为你的数据路径\n",
    "data = pd.read_csv(data_path)\n",
    "\n",
    "# 划分训练集和验证集\n",
    "#train_data, val_data = train_test_split(data, test_size=0.2, random_state=42)\n"
   ]
  },
  {
   "cell_type": "code",
   "execution_count": 4,
   "metadata": {},
   "outputs": [
    {
     "data": {
      "text/html": [
       "<div>\n",
       "<style scoped>\n",
       "    .dataframe tbody tr th:only-of-type {\n",
       "        vertical-align: middle;\n",
       "    }\n",
       "\n",
       "    .dataframe tbody tr th {\n",
       "        vertical-align: top;\n",
       "    }\n",
       "\n",
       "    .dataframe thead th {\n",
       "        text-align: right;\n",
       "    }\n",
       "</style>\n",
       "<table border=\"1\" class=\"dataframe\">\n",
       "  <thead>\n",
       "    <tr style=\"text-align: right;\">\n",
       "      <th></th>\n",
       "      <th>sentences</th>\n",
       "      <th>name</th>\n",
       "      <th>labels</th>\n",
       "    </tr>\n",
       "  </thead>\n",
       "  <tbody>\n",
       "    <tr>\n",
       "      <th>0</th>\n",
       "      <td>Across a few prohibitive miles: The impact of ...</td>\n",
       "      <td>Title</td>\n",
       "      <td>0</td>\n",
       "    </tr>\n",
       "    <tr>\n",
       "      <th>1</th>\n",
       "      <td>1：\\nTo lift nearly 100 million impoverished ru...</td>\n",
       "      <td>Research Question 研究问题功能段</td>\n",
       "      <td>1</td>\n",
       "    </tr>\n",
       "    <tr>\n",
       "      <th>2</th>\n",
       "      <td>2：\\nThe government launched the APRP to facili...</td>\n",
       "      <td>Transition II 项目类过渡段</td>\n",
       "      <td>8</td>\n",
       "    </tr>\n",
       "    <tr>\n",
       "      <th>3</th>\n",
       "      <td>5：\\nA conceptual framework is thus adopted tha...</td>\n",
       "      <td>Research Desgin 研究设计功能段</td>\n",
       "      <td>3</td>\n",
       "    </tr>\n",
       "    <tr>\n",
       "      <th>4</th>\n",
       "      <td>7：\\nIn addition to a positive ATT, we document...</td>\n",
       "      <td>Research Finding 研究发现功能段</td>\n",
       "      <td>2</td>\n",
       "    </tr>\n",
       "  </tbody>\n",
       "</table>\n",
       "</div>"
      ],
      "text/plain": [
       "                                           sentences  \\\n",
       "0  Across a few prohibitive miles: The impact of ...   \n",
       "1  1：\\nTo lift nearly 100 million impoverished ru...   \n",
       "2  2：\\nThe government launched the APRP to facili...   \n",
       "3  5：\\nA conceptual framework is thus adopted tha...   \n",
       "4  7：\\nIn addition to a positive ATT, we document...   \n",
       "\n",
       "                        name  labels  \n",
       "0                      Title       0  \n",
       "1  Research Question 研究问题功能段       1  \n",
       "2       Transition II 项目类过渡段       8  \n",
       "3    Research Desgin 研究设计功能段       3  \n",
       "4   Research Finding 研究发现功能段       2  "
      ]
     },
     "execution_count": 4,
     "metadata": {},
     "output_type": "execute_result"
    }
   ],
   "source": [
    "data.head()"
   ]
  },
  {
   "cell_type": "code",
   "execution_count": 5,
   "metadata": {},
   "outputs": [],
   "source": [
    "# 构建 sentences 和 labels 列表\n",
    "sentences = data.sentences.values\n",
    "labels = data.labels.values"
   ]
  },
  {
   "cell_type": "markdown",
   "metadata": {},
   "source": [
    "下载预训练的BERT模型到本地  \n",
    "git lfs install  \n",
    "git clone git@hf.co:bert-base-uncased"
   ]
  },
  {
   "cell_type": "code",
   "execution_count": 6,
   "metadata": {},
   "outputs": [],
   "source": [
    "# 加载预训练的BERT模型和tokenizer\n",
    "#model_name = 'bert-base-uncased'   #bert-base-uncased 不区分大小写\n",
    "\n",
    "tokenizer = BertTokenizer.from_pretrained(\"/home/xuhu/project/littool/bert-base-uncased\")\n",
    "#model = BertForSequenceClassification.from_pretrained(\"/home/xuhu/project/littool/bert-base-uncased\", num_labels=9)\n"
   ]
  },
  {
   "cell_type": "code",
   "execution_count": 7,
   "metadata": {},
   "outputs": [
    {
     "name": "stdout",
     "output_type": "stream",
     "text": [
      " Original:  Across a few prohibitive miles: The impact of the Anti-Poverty Relocation Program in China\n",
      "Tokenized:  ['across', 'a', 'few', 'prohibit', '##ive', 'miles', ':', 'the', 'impact', 'of', 'the', 'anti', '-', 'poverty', 'relocation', 'program', 'in', 'china']\n",
      "Token IDs:  [2408, 1037, 2261, 23469, 3512, 2661, 1024, 1996, 4254, 1997, 1996, 3424, 1011, 5635, 18344, 2565, 1999, 2859]\n"
     ]
    }
   ],
   "source": [
    "# 输出原始句子\n",
    "print(' Original: ', sentences[0])\n",
    "\n",
    "# 将分词后的内容输出\n",
    "print('Tokenized: ', tokenizer.tokenize(sentences[0]))\n",
    "\n",
    "# 将每个词映射到词典下标\n",
    "print('Token IDs: ', tokenizer.convert_tokens_to_ids(tokenizer.tokenize(sentences[0])))"
   ]
  },
  {
   "cell_type": "code",
   "execution_count": 8,
   "metadata": {},
   "outputs": [
    {
     "name": "stdout",
     "output_type": "stream",
     "text": [
      "Max sentence length:  1483\n"
     ]
    }
   ],
   "source": [
    "max_len = 0\n",
    "for sent in sentences:\n",
    "\n",
    "    # 将文本分词，并添加 `[CLS]` 和 `[SEP]` 符号\n",
    "    input_ids = tokenizer.encode(sent, add_special_tokens=True)\n",
    "    max_len = max(max_len, len(input_ids))\n",
    "\n",
    "print('Max sentence length: ', max_len)"
   ]
  },
  {
   "cell_type": "code",
   "execution_count": 9,
   "metadata": {},
   "outputs": [
    {
     "name": "stderr",
     "output_type": "stream",
     "text": [
      "Truncation was not explicitly activated but `max_length` is provided a specific value, please use `truncation=True` to explicitly truncate examples to max length. Defaulting to 'longest_first' truncation strategy. If you encode pairs of sequences (GLUE-style) with the tokenizer you can select this strategy more precisely by providing a specific strategy to `truncation`.\n",
      "/home/xuhu/miniconda3/envs/peppi/lib/python3.8/site-packages/transformers/tokenization_utils_base.py:2618: FutureWarning: The `pad_to_max_length` argument is deprecated and will be removed in a future version, use `padding=True` or `padding='longest'` to pad to the longest sequence in the batch, or use `padding='max_length'` to pad to a max length. In this case, you can give a specific length with `max_length` (e.g. `max_length=45`) or leave max_length to None to pad to the maximal input size of the model (e.g. 512 for Bert).\n",
      "  warnings.warn(\n"
     ]
    },
    {
     "name": "stdout",
     "output_type": "stream",
     "text": [
      "Original:  Across a few prohibitive miles: The impact of the Anti-Poverty Relocation Program in China\n",
      "Token IDs: tensor([  101,  2408,  1037,  2261, 23469,  3512,  2661,  1024,  1996,  4254,\n",
      "         1997,  1996,  3424,  1011,  5635, 18344,  2565,  1999,  2859,   102,\n",
      "            0,     0,     0,     0,     0,     0,     0,     0,     0,     0,\n",
      "            0,     0,     0,     0,     0,     0,     0,     0,     0,     0,\n",
      "            0,     0,     0,     0,     0,     0,     0,     0,     0,     0,\n",
      "            0,     0,     0,     0,     0,     0,     0,     0,     0,     0,\n",
      "            0,     0,     0,     0,     0,     0,     0,     0,     0,     0,\n",
      "            0,     0,     0,     0,     0,     0,     0,     0,     0,     0,\n",
      "            0,     0,     0,     0,     0,     0,     0,     0,     0,     0,\n",
      "            0,     0,     0,     0,     0,     0,     0,     0,     0,     0,\n",
      "            0,     0,     0,     0,     0,     0,     0,     0,     0,     0,\n",
      "            0,     0,     0,     0,     0,     0,     0,     0,     0,     0,\n",
      "            0,     0,     0,     0,     0,     0,     0,     0])\n"
     ]
    }
   ],
   "source": [
    "# 将数据集分完词后存储到列表中\n",
    "input_ids = []\n",
    "attention_masks = []\n",
    "\n",
    "for sent in sentences:\n",
    "    encoded_dict = tokenizer.encode_plus(\n",
    "                        sent,                      # 输入文本\n",
    "                        add_special_tokens = True, # 添加 '[CLS]' 和 '[SEP]'\n",
    "                        max_length = 128,           # 填充 & 截断长度\n",
    "                        pad_to_max_length = True,\n",
    "                        return_attention_mask = True,   # 返回 attn. masks.\n",
    "                        return_tensors = 'pt',     # 返回 pytorch tensors 格式的数据\n",
    "                   )\n",
    "    \n",
    "    # 将编码后的文本加入到列表  \n",
    "    input_ids.append(encoded_dict['input_ids'])\n",
    "    \n",
    "    # 将文本的 attention mask 也加入到 attention_masks 列表\n",
    "    attention_masks.append(encoded_dict['attention_mask'])\n",
    "\n",
    "# 将列表转换为 tensor\n",
    "input_ids = torch.cat(input_ids, dim=0)\n",
    "attention_masks = torch.cat(attention_masks, dim=0)\n",
    "labels = torch.tensor(labels)\n",
    "\n",
    "# 输出第 1 行文本的原始和编码后的信息\n",
    "print('Original: ', sentences[0])\n",
    "print('Token IDs:', input_ids[0])"
   ]
  },
  {
   "cell_type": "code",
   "execution_count": 10,
   "metadata": {},
   "outputs": [
    {
     "name": "stdout",
     "output_type": "stream",
     "text": [
      "  554 training samples\n",
      "   62 validation samples\n"
     ]
    }
   ],
   "source": [
    "from torch.utils.data import TensorDataset, random_split\n",
    "\n",
    "# 将输入数据合并为 TensorDataset 对象\n",
    "dataset = TensorDataset(input_ids, attention_masks, labels)\n",
    "\n",
    "# 计算训练集和验证集大小\n",
    "train_size = int(0.9 * len(dataset))\n",
    "val_size = len(dataset) - train_size\n",
    "\n",
    "# 按照数据大小随机拆分训练集和测试集\n",
    "train_dataset, val_dataset = random_split(dataset, [train_size, val_size])\n",
    "\n",
    "print('{:>5,} training samples'.format(train_size))\n",
    "print('{:>5,} validation samples'.format(val_size))"
   ]
  },
  {
   "cell_type": "code",
   "execution_count": 11,
   "metadata": {},
   "outputs": [],
   "source": [
    "from torch.utils.data import DataLoader, RandomSampler, SequentialSampler\n",
    "\n",
    "# 在 fine-tune 的训练中，BERT 作者建议小批量大小设为 16 或 32\n",
    "batch_size = 32\n",
    "\n",
    "# 为训练和验证集创建 Dataloader，对训练样本随机洗牌\n",
    "train_dataloader = DataLoader(\n",
    "            train_dataset,  # 训练样本\n",
    "            sampler = RandomSampler(train_dataset), # 随机小批量\n",
    "            batch_size = batch_size, # 以小批量进行训练\n",
    "            num_workers=0\n",
    "        )\n",
    "\n",
    "# 验证集不需要随机化，这里顺序读取就好\n",
    "validation_dataloader = DataLoader(\n",
    "            val_dataset, # 验证样本\n",
    "            sampler = SequentialSampler(val_dataset), # 顺序选取小批量\n",
    "            batch_size = batch_size ,\n",
    "            num_workers=0\n",
    "        )"
   ]
  },
  {
   "cell_type": "code",
   "execution_count": 12,
   "metadata": {},
   "outputs": [
    {
     "name": "stderr",
     "output_type": "stream",
     "text": [
      "Some weights of BertForSequenceClassification were not initialized from the model checkpoint at /home/xuhu/project/littool/bert-base-uncased and are newly initialized: ['classifier.bias', 'classifier.weight']\n",
      "You should probably TRAIN this model on a down-stream task to be able to use it for predictions and inference.\n"
     ]
    },
    {
     "data": {
      "text/plain": [
       "BertForSequenceClassification(\n",
       "  (bert): BertModel(\n",
       "    (embeddings): BertEmbeddings(\n",
       "      (word_embeddings): Embedding(30522, 768, padding_idx=0)\n",
       "      (position_embeddings): Embedding(512, 768)\n",
       "      (token_type_embeddings): Embedding(2, 768)\n",
       "      (LayerNorm): LayerNorm((768,), eps=1e-12, elementwise_affine=True)\n",
       "      (dropout): Dropout(p=0.1, inplace=False)\n",
       "    )\n",
       "    (encoder): BertEncoder(\n",
       "      (layer): ModuleList(\n",
       "        (0): BertLayer(\n",
       "          (attention): BertAttention(\n",
       "            (self): BertSelfAttention(\n",
       "              (query): Linear(in_features=768, out_features=768, bias=True)\n",
       "              (key): Linear(in_features=768, out_features=768, bias=True)\n",
       "              (value): Linear(in_features=768, out_features=768, bias=True)\n",
       "              (dropout): Dropout(p=0.1, inplace=False)\n",
       "            )\n",
       "            (output): BertSelfOutput(\n",
       "              (dense): Linear(in_features=768, out_features=768, bias=True)\n",
       "              (LayerNorm): LayerNorm((768,), eps=1e-12, elementwise_affine=True)\n",
       "              (dropout): Dropout(p=0.1, inplace=False)\n",
       "            )\n",
       "          )\n",
       "          (intermediate): BertIntermediate(\n",
       "            (dense): Linear(in_features=768, out_features=3072, bias=True)\n",
       "            (intermediate_act_fn): GELUActivation()\n",
       "          )\n",
       "          (output): BertOutput(\n",
       "            (dense): Linear(in_features=3072, out_features=768, bias=True)\n",
       "            (LayerNorm): LayerNorm((768,), eps=1e-12, elementwise_affine=True)\n",
       "            (dropout): Dropout(p=0.1, inplace=False)\n",
       "          )\n",
       "        )\n",
       "        (1): BertLayer(\n",
       "          (attention): BertAttention(\n",
       "            (self): BertSelfAttention(\n",
       "              (query): Linear(in_features=768, out_features=768, bias=True)\n",
       "              (key): Linear(in_features=768, out_features=768, bias=True)\n",
       "              (value): Linear(in_features=768, out_features=768, bias=True)\n",
       "              (dropout): Dropout(p=0.1, inplace=False)\n",
       "            )\n",
       "            (output): BertSelfOutput(\n",
       "              (dense): Linear(in_features=768, out_features=768, bias=True)\n",
       "              (LayerNorm): LayerNorm((768,), eps=1e-12, elementwise_affine=True)\n",
       "              (dropout): Dropout(p=0.1, inplace=False)\n",
       "            )\n",
       "          )\n",
       "          (intermediate): BertIntermediate(\n",
       "            (dense): Linear(in_features=768, out_features=3072, bias=True)\n",
       "            (intermediate_act_fn): GELUActivation()\n",
       "          )\n",
       "          (output): BertOutput(\n",
       "            (dense): Linear(in_features=3072, out_features=768, bias=True)\n",
       "            (LayerNorm): LayerNorm((768,), eps=1e-12, elementwise_affine=True)\n",
       "            (dropout): Dropout(p=0.1, inplace=False)\n",
       "          )\n",
       "        )\n",
       "        (2): BertLayer(\n",
       "          (attention): BertAttention(\n",
       "            (self): BertSelfAttention(\n",
       "              (query): Linear(in_features=768, out_features=768, bias=True)\n",
       "              (key): Linear(in_features=768, out_features=768, bias=True)\n",
       "              (value): Linear(in_features=768, out_features=768, bias=True)\n",
       "              (dropout): Dropout(p=0.1, inplace=False)\n",
       "            )\n",
       "            (output): BertSelfOutput(\n",
       "              (dense): Linear(in_features=768, out_features=768, bias=True)\n",
       "              (LayerNorm): LayerNorm((768,), eps=1e-12, elementwise_affine=True)\n",
       "              (dropout): Dropout(p=0.1, inplace=False)\n",
       "            )\n",
       "          )\n",
       "          (intermediate): BertIntermediate(\n",
       "            (dense): Linear(in_features=768, out_features=3072, bias=True)\n",
       "            (intermediate_act_fn): GELUActivation()\n",
       "          )\n",
       "          (output): BertOutput(\n",
       "            (dense): Linear(in_features=3072, out_features=768, bias=True)\n",
       "            (LayerNorm): LayerNorm((768,), eps=1e-12, elementwise_affine=True)\n",
       "            (dropout): Dropout(p=0.1, inplace=False)\n",
       "          )\n",
       "        )\n",
       "        (3): BertLayer(\n",
       "          (attention): BertAttention(\n",
       "            (self): BertSelfAttention(\n",
       "              (query): Linear(in_features=768, out_features=768, bias=True)\n",
       "              (key): Linear(in_features=768, out_features=768, bias=True)\n",
       "              (value): Linear(in_features=768, out_features=768, bias=True)\n",
       "              (dropout): Dropout(p=0.1, inplace=False)\n",
       "            )\n",
       "            (output): BertSelfOutput(\n",
       "              (dense): Linear(in_features=768, out_features=768, bias=True)\n",
       "              (LayerNorm): LayerNorm((768,), eps=1e-12, elementwise_affine=True)\n",
       "              (dropout): Dropout(p=0.1, inplace=False)\n",
       "            )\n",
       "          )\n",
       "          (intermediate): BertIntermediate(\n",
       "            (dense): Linear(in_features=768, out_features=3072, bias=True)\n",
       "            (intermediate_act_fn): GELUActivation()\n",
       "          )\n",
       "          (output): BertOutput(\n",
       "            (dense): Linear(in_features=3072, out_features=768, bias=True)\n",
       "            (LayerNorm): LayerNorm((768,), eps=1e-12, elementwise_affine=True)\n",
       "            (dropout): Dropout(p=0.1, inplace=False)\n",
       "          )\n",
       "        )\n",
       "        (4): BertLayer(\n",
       "          (attention): BertAttention(\n",
       "            (self): BertSelfAttention(\n",
       "              (query): Linear(in_features=768, out_features=768, bias=True)\n",
       "              (key): Linear(in_features=768, out_features=768, bias=True)\n",
       "              (value): Linear(in_features=768, out_features=768, bias=True)\n",
       "              (dropout): Dropout(p=0.1, inplace=False)\n",
       "            )\n",
       "            (output): BertSelfOutput(\n",
       "              (dense): Linear(in_features=768, out_features=768, bias=True)\n",
       "              (LayerNorm): LayerNorm((768,), eps=1e-12, elementwise_affine=True)\n",
       "              (dropout): Dropout(p=0.1, inplace=False)\n",
       "            )\n",
       "          )\n",
       "          (intermediate): BertIntermediate(\n",
       "            (dense): Linear(in_features=768, out_features=3072, bias=True)\n",
       "            (intermediate_act_fn): GELUActivation()\n",
       "          )\n",
       "          (output): BertOutput(\n",
       "            (dense): Linear(in_features=3072, out_features=768, bias=True)\n",
       "            (LayerNorm): LayerNorm((768,), eps=1e-12, elementwise_affine=True)\n",
       "            (dropout): Dropout(p=0.1, inplace=False)\n",
       "          )\n",
       "        )\n",
       "        (5): BertLayer(\n",
       "          (attention): BertAttention(\n",
       "            (self): BertSelfAttention(\n",
       "              (query): Linear(in_features=768, out_features=768, bias=True)\n",
       "              (key): Linear(in_features=768, out_features=768, bias=True)\n",
       "              (value): Linear(in_features=768, out_features=768, bias=True)\n",
       "              (dropout): Dropout(p=0.1, inplace=False)\n",
       "            )\n",
       "            (output): BertSelfOutput(\n",
       "              (dense): Linear(in_features=768, out_features=768, bias=True)\n",
       "              (LayerNorm): LayerNorm((768,), eps=1e-12, elementwise_affine=True)\n",
       "              (dropout): Dropout(p=0.1, inplace=False)\n",
       "            )\n",
       "          )\n",
       "          (intermediate): BertIntermediate(\n",
       "            (dense): Linear(in_features=768, out_features=3072, bias=True)\n",
       "            (intermediate_act_fn): GELUActivation()\n",
       "          )\n",
       "          (output): BertOutput(\n",
       "            (dense): Linear(in_features=3072, out_features=768, bias=True)\n",
       "            (LayerNorm): LayerNorm((768,), eps=1e-12, elementwise_affine=True)\n",
       "            (dropout): Dropout(p=0.1, inplace=False)\n",
       "          )\n",
       "        )\n",
       "        (6): BertLayer(\n",
       "          (attention): BertAttention(\n",
       "            (self): BertSelfAttention(\n",
       "              (query): Linear(in_features=768, out_features=768, bias=True)\n",
       "              (key): Linear(in_features=768, out_features=768, bias=True)\n",
       "              (value): Linear(in_features=768, out_features=768, bias=True)\n",
       "              (dropout): Dropout(p=0.1, inplace=False)\n",
       "            )\n",
       "            (output): BertSelfOutput(\n",
       "              (dense): Linear(in_features=768, out_features=768, bias=True)\n",
       "              (LayerNorm): LayerNorm((768,), eps=1e-12, elementwise_affine=True)\n",
       "              (dropout): Dropout(p=0.1, inplace=False)\n",
       "            )\n",
       "          )\n",
       "          (intermediate): BertIntermediate(\n",
       "            (dense): Linear(in_features=768, out_features=3072, bias=True)\n",
       "            (intermediate_act_fn): GELUActivation()\n",
       "          )\n",
       "          (output): BertOutput(\n",
       "            (dense): Linear(in_features=3072, out_features=768, bias=True)\n",
       "            (LayerNorm): LayerNorm((768,), eps=1e-12, elementwise_affine=True)\n",
       "            (dropout): Dropout(p=0.1, inplace=False)\n",
       "          )\n",
       "        )\n",
       "        (7): BertLayer(\n",
       "          (attention): BertAttention(\n",
       "            (self): BertSelfAttention(\n",
       "              (query): Linear(in_features=768, out_features=768, bias=True)\n",
       "              (key): Linear(in_features=768, out_features=768, bias=True)\n",
       "              (value): Linear(in_features=768, out_features=768, bias=True)\n",
       "              (dropout): Dropout(p=0.1, inplace=False)\n",
       "            )\n",
       "            (output): BertSelfOutput(\n",
       "              (dense): Linear(in_features=768, out_features=768, bias=True)\n",
       "              (LayerNorm): LayerNorm((768,), eps=1e-12, elementwise_affine=True)\n",
       "              (dropout): Dropout(p=0.1, inplace=False)\n",
       "            )\n",
       "          )\n",
       "          (intermediate): BertIntermediate(\n",
       "            (dense): Linear(in_features=768, out_features=3072, bias=True)\n",
       "            (intermediate_act_fn): GELUActivation()\n",
       "          )\n",
       "          (output): BertOutput(\n",
       "            (dense): Linear(in_features=3072, out_features=768, bias=True)\n",
       "            (LayerNorm): LayerNorm((768,), eps=1e-12, elementwise_affine=True)\n",
       "            (dropout): Dropout(p=0.1, inplace=False)\n",
       "          )\n",
       "        )\n",
       "        (8): BertLayer(\n",
       "          (attention): BertAttention(\n",
       "            (self): BertSelfAttention(\n",
       "              (query): Linear(in_features=768, out_features=768, bias=True)\n",
       "              (key): Linear(in_features=768, out_features=768, bias=True)\n",
       "              (value): Linear(in_features=768, out_features=768, bias=True)\n",
       "              (dropout): Dropout(p=0.1, inplace=False)\n",
       "            )\n",
       "            (output): BertSelfOutput(\n",
       "              (dense): Linear(in_features=768, out_features=768, bias=True)\n",
       "              (LayerNorm): LayerNorm((768,), eps=1e-12, elementwise_affine=True)\n",
       "              (dropout): Dropout(p=0.1, inplace=False)\n",
       "            )\n",
       "          )\n",
       "          (intermediate): BertIntermediate(\n",
       "            (dense): Linear(in_features=768, out_features=3072, bias=True)\n",
       "            (intermediate_act_fn): GELUActivation()\n",
       "          )\n",
       "          (output): BertOutput(\n",
       "            (dense): Linear(in_features=3072, out_features=768, bias=True)\n",
       "            (LayerNorm): LayerNorm((768,), eps=1e-12, elementwise_affine=True)\n",
       "            (dropout): Dropout(p=0.1, inplace=False)\n",
       "          )\n",
       "        )\n",
       "        (9): BertLayer(\n",
       "          (attention): BertAttention(\n",
       "            (self): BertSelfAttention(\n",
       "              (query): Linear(in_features=768, out_features=768, bias=True)\n",
       "              (key): Linear(in_features=768, out_features=768, bias=True)\n",
       "              (value): Linear(in_features=768, out_features=768, bias=True)\n",
       "              (dropout): Dropout(p=0.1, inplace=False)\n",
       "            )\n",
       "            (output): BertSelfOutput(\n",
       "              (dense): Linear(in_features=768, out_features=768, bias=True)\n",
       "              (LayerNorm): LayerNorm((768,), eps=1e-12, elementwise_affine=True)\n",
       "              (dropout): Dropout(p=0.1, inplace=False)\n",
       "            )\n",
       "          )\n",
       "          (intermediate): BertIntermediate(\n",
       "            (dense): Linear(in_features=768, out_features=3072, bias=True)\n",
       "            (intermediate_act_fn): GELUActivation()\n",
       "          )\n",
       "          (output): BertOutput(\n",
       "            (dense): Linear(in_features=3072, out_features=768, bias=True)\n",
       "            (LayerNorm): LayerNorm((768,), eps=1e-12, elementwise_affine=True)\n",
       "            (dropout): Dropout(p=0.1, inplace=False)\n",
       "          )\n",
       "        )\n",
       "        (10): BertLayer(\n",
       "          (attention): BertAttention(\n",
       "            (self): BertSelfAttention(\n",
       "              (query): Linear(in_features=768, out_features=768, bias=True)\n",
       "              (key): Linear(in_features=768, out_features=768, bias=True)\n",
       "              (value): Linear(in_features=768, out_features=768, bias=True)\n",
       "              (dropout): Dropout(p=0.1, inplace=False)\n",
       "            )\n",
       "            (output): BertSelfOutput(\n",
       "              (dense): Linear(in_features=768, out_features=768, bias=True)\n",
       "              (LayerNorm): LayerNorm((768,), eps=1e-12, elementwise_affine=True)\n",
       "              (dropout): Dropout(p=0.1, inplace=False)\n",
       "            )\n",
       "          )\n",
       "          (intermediate): BertIntermediate(\n",
       "            (dense): Linear(in_features=768, out_features=3072, bias=True)\n",
       "            (intermediate_act_fn): GELUActivation()\n",
       "          )\n",
       "          (output): BertOutput(\n",
       "            (dense): Linear(in_features=3072, out_features=768, bias=True)\n",
       "            (LayerNorm): LayerNorm((768,), eps=1e-12, elementwise_affine=True)\n",
       "            (dropout): Dropout(p=0.1, inplace=False)\n",
       "          )\n",
       "        )\n",
       "        (11): BertLayer(\n",
       "          (attention): BertAttention(\n",
       "            (self): BertSelfAttention(\n",
       "              (query): Linear(in_features=768, out_features=768, bias=True)\n",
       "              (key): Linear(in_features=768, out_features=768, bias=True)\n",
       "              (value): Linear(in_features=768, out_features=768, bias=True)\n",
       "              (dropout): Dropout(p=0.1, inplace=False)\n",
       "            )\n",
       "            (output): BertSelfOutput(\n",
       "              (dense): Linear(in_features=768, out_features=768, bias=True)\n",
       "              (LayerNorm): LayerNorm((768,), eps=1e-12, elementwise_affine=True)\n",
       "              (dropout): Dropout(p=0.1, inplace=False)\n",
       "            )\n",
       "          )\n",
       "          (intermediate): BertIntermediate(\n",
       "            (dense): Linear(in_features=768, out_features=3072, bias=True)\n",
       "            (intermediate_act_fn): GELUActivation()\n",
       "          )\n",
       "          (output): BertOutput(\n",
       "            (dense): Linear(in_features=3072, out_features=768, bias=True)\n",
       "            (LayerNorm): LayerNorm((768,), eps=1e-12, elementwise_affine=True)\n",
       "            (dropout): Dropout(p=0.1, inplace=False)\n",
       "          )\n",
       "        )\n",
       "      )\n",
       "    )\n",
       "    (pooler): BertPooler(\n",
       "      (dense): Linear(in_features=768, out_features=768, bias=True)\n",
       "      (activation): Tanh()\n",
       "    )\n",
       "  )\n",
       "  (dropout): Dropout(p=0.1, inplace=False)\n",
       "  (classifier): Linear(in_features=768, out_features=9, bias=True)\n",
       ")"
      ]
     },
     "execution_count": 12,
     "metadata": {},
     "output_type": "execute_result"
    }
   ],
   "source": [
    "from transformers import BertForSequenceClassification, AdamW, BertConfig\n",
    "#import os\n",
    "#os.environ['CUDA_LAUNCH_BLOCKING'] = '1'\n",
    "#device = \"cpu\"\n",
    "# 加载 BertForSequenceClassification, 预训练 BERT 模型 + 顶层的线性分类层 \n",
    "model = BertForSequenceClassification.from_pretrained(\n",
    "    \"/home/xuhu/project/littool/bert-base-uncased\", # 小写的 12 层预训练模型\n",
    "    num_labels = 9, # 分类数 --2 表示二分类\n",
    "                    # 你可以改变这个数字，用于多分类任务  \n",
    "    output_attentions = False, # 模型是否返回 attentions weights.\n",
    "    output_hidden_states = False, # 模型是否返回所有隐层状态.\n",
    ")\n",
    "\n",
    "# 在 gpu 中运行该模型\n",
    "model.cuda()"
   ]
  },
  {
   "cell_type": "code",
   "execution_count": 13,
   "metadata": {},
   "outputs": [
    {
     "name": "stdout",
     "output_type": "stream",
     "text": [
      "The BERT model has 201 different named parameters.\n",
      "\n",
      "==== Embedding Layer ====\n",
      "\n",
      "bert.embeddings.word_embeddings.weight                  (30522, 768)\n",
      "bert.embeddings.position_embeddings.weight                (512, 768)\n",
      "bert.embeddings.token_type_embeddings.weight                (2, 768)\n",
      "bert.embeddings.LayerNorm.weight                              (768,)\n",
      "bert.embeddings.LayerNorm.bias                                (768,)\n",
      "\n",
      "==== First Transformer ====\n",
      "\n",
      "bert.encoder.layer.0.attention.self.query.weight          (768, 768)\n",
      "bert.encoder.layer.0.attention.self.query.bias                (768,)\n",
      "bert.encoder.layer.0.attention.self.key.weight            (768, 768)\n",
      "bert.encoder.layer.0.attention.self.key.bias                  (768,)\n",
      "bert.encoder.layer.0.attention.self.value.weight          (768, 768)\n",
      "bert.encoder.layer.0.attention.self.value.bias                (768,)\n",
      "bert.encoder.layer.0.attention.output.dense.weight        (768, 768)\n",
      "bert.encoder.layer.0.attention.output.dense.bias              (768,)\n",
      "bert.encoder.layer.0.attention.output.LayerNorm.weight        (768,)\n",
      "bert.encoder.layer.0.attention.output.LayerNorm.bias          (768,)\n",
      "bert.encoder.layer.0.intermediate.dense.weight           (3072, 768)\n",
      "bert.encoder.layer.0.intermediate.dense.bias                 (3072,)\n",
      "bert.encoder.layer.0.output.dense.weight                 (768, 3072)\n",
      "bert.encoder.layer.0.output.dense.bias                        (768,)\n",
      "bert.encoder.layer.0.output.LayerNorm.weight                  (768,)\n",
      "bert.encoder.layer.0.output.LayerNorm.bias                    (768,)\n",
      "\n",
      "==== Output Layer ====\n",
      "\n",
      "bert.pooler.dense.weight                                  (768, 768)\n",
      "bert.pooler.dense.bias                                        (768,)\n",
      "classifier.weight                                           (9, 768)\n",
      "classifier.bias                                                 (9,)\n"
     ]
    }
   ],
   "source": [
    "# 将所有模型参数转换为一个列表\n",
    "params = list(model.named_parameters())\n",
    "\n",
    "print('The BERT model has {:} different named parameters.\\n'.format(len(params)))\n",
    "\n",
    "print('==== Embedding Layer ====\\n')\n",
    "\n",
    "for p in params[0:5]:\n",
    "    print(\"{:<55} {:>12}\".format(p[0], str(tuple(p[1].size()))))\n",
    "\n",
    "print('\\n==== First Transformer ====\\n')\n",
    "\n",
    "for p in params[5:21]:\n",
    "    print(\"{:<55} {:>12}\".format(p[0], str(tuple(p[1].size()))))\n",
    "\n",
    "print('\\n==== Output Layer ====\\n')\n",
    "\n",
    "for p in params[-4:]:\n",
    "    print(\"{:<55} {:>12}\".format(p[0], str(tuple(p[1].size()))))"
   ]
  },
  {
   "cell_type": "code",
   "execution_count": 23,
   "metadata": {},
   "outputs": [
    {
     "name": "stderr",
     "output_type": "stream",
     "text": [
      "/home/xuhu/miniconda3/envs/peppi/lib/python3.8/site-packages/transformers/optimization.py:429: FutureWarning: This implementation of AdamW is deprecated and will be removed in a future version. Use the PyTorch implementation torch.optim.AdamW instead, or set `no_deprecation_warning=True` to disable this warning\n",
      "  warnings.warn(\n"
     ]
    }
   ],
   "source": [
    "# 我认为 'W' 代表 '权重衰减修复\"\n",
    "optimizer = AdamW(model.parameters(),\n",
    "                  lr = 2e-5, # args.learning_rate - default is 5e-5\n",
    "                  eps = 1e-8 # args.adam_epsilon  - default is 1e-8\n",
    "                )\n",
    "\n",
    "from transformers import get_linear_schedule_with_warmup\n",
    "\n",
    "# 训练 epochs。 BERT 作者建议在 2 和 4 之间，设大了容易过拟合 \n",
    "epochs = 10\n",
    "\n",
    "# 总的训练样本数\n",
    "total_steps = len(train_dataloader) * epochs\n",
    "\n",
    "# 创建学习率调度器\n",
    "scheduler = get_linear_schedule_with_warmup(optimizer, \n",
    "                                            num_warmup_steps = 0, \n",
    "                                            num_training_steps = total_steps)"
   ]
  },
  {
   "cell_type": "code",
   "execution_count": 24,
   "metadata": {},
   "outputs": [],
   "source": [
    "import numpy as np\n",
    "\n",
    "# 根据预测结果和标签数据来计算准确率\n",
    "def flat_accuracy(preds, labels):\n",
    "    pred_flat = np.argmax(preds, axis=1).flatten()\n",
    "    labels_flat = labels.flatten()\n",
    "    return np.sum(pred_flat == labels_flat) / len(labels_flat)"
   ]
  },
  {
   "cell_type": "code",
   "execution_count": 25,
   "metadata": {},
   "outputs": [],
   "source": [
    "import time\n",
    "import datetime\n",
    "\n",
    "def format_time(elapsed):\n",
    "    '''\n",
    "    Takes a time in seconds and returns a string hh:mm:ss\n",
    "    '''\n",
    "    # 四舍五入到最近的秒\n",
    "    elapsed_rounded = int(round((elapsed)))\n",
    "    \n",
    "    # 格式化为 hh:mm:ss\n",
    "    return str(datetime.timedelta(seconds=elapsed_rounded))"
   ]
  },
  {
   "cell_type": "code",
   "execution_count": 26,
   "metadata": {},
   "outputs": [
    {
     "data": {
      "text/plain": [
       "(616, 616)"
      ]
     },
     "execution_count": 26,
     "metadata": {},
     "output_type": "execute_result"
    }
   ],
   "source": [
    "len(sentences),len(labels)"
   ]
  },
  {
   "cell_type": "code",
   "execution_count": 27,
   "metadata": {},
   "outputs": [
    {
     "name": "stdout",
     "output_type": "stream",
     "text": [
      "\n",
      "======== Epoch 1 / 10 ========\n",
      "Training...\n",
      "\n",
      "  Average training loss: 1.46\n",
      "  Training epcoh took: 0:00:04\n",
      "\n",
      "Running Validation...\n",
      "  Accuracy: 0.56\n",
      "  Validation Loss: 1.47\n",
      "  Validation took: 0:00:00\n",
      "\n",
      "======== Epoch 2 / 10 ========\n",
      "Training...\n",
      "\n",
      "  Average training loss: 1.19\n",
      "  Training epcoh took: 0:00:04\n",
      "\n",
      "Running Validation...\n",
      "  Accuracy: 0.57\n",
      "  Validation Loss: 1.27\n",
      "  Validation took: 0:00:00\n",
      "\n",
      "======== Epoch 3 / 10 ========\n",
      "Training...\n",
      "\n",
      "  Average training loss: 1.02\n",
      "  Training epcoh took: 0:00:04\n",
      "\n",
      "Running Validation...\n",
      "  Accuracy: 0.69\n",
      "  Validation Loss: 1.08\n",
      "  Validation took: 0:00:00\n",
      "\n",
      "======== Epoch 4 / 10 ========\n",
      "Training...\n",
      "\n",
      "  Average training loss: 0.85\n",
      "  Training epcoh took: 0:00:04\n",
      "\n",
      "Running Validation...\n",
      "  Accuracy: 0.68\n",
      "  Validation Loss: 0.99\n",
      "  Validation took: 0:00:00\n",
      "\n",
      "======== Epoch 5 / 10 ========\n",
      "Training...\n",
      "\n",
      "  Average training loss: 0.73\n",
      "  Training epcoh took: 0:00:04\n",
      "\n",
      "Running Validation...\n",
      "  Accuracy: 0.71\n",
      "  Validation Loss: 0.94\n",
      "  Validation took: 0:00:00\n",
      "\n",
      "======== Epoch 6 / 10 ========\n",
      "Training...\n",
      "\n",
      "  Average training loss: 0.65\n",
      "  Training epcoh took: 0:00:04\n",
      "\n",
      "Running Validation...\n",
      "  Accuracy: 0.71\n",
      "  Validation Loss: 0.91\n",
      "  Validation took: 0:00:00\n",
      "\n",
      "======== Epoch 7 / 10 ========\n",
      "Training...\n",
      "\n",
      "  Average training loss: 0.57\n",
      "  Training epcoh took: 0:00:04\n",
      "\n",
      "Running Validation...\n",
      "  Accuracy: 0.73\n",
      "  Validation Loss: 0.82\n",
      "  Validation took: 0:00:00\n",
      "\n",
      "======== Epoch 8 / 10 ========\n",
      "Training...\n",
      "\n",
      "  Average training loss: 0.53\n",
      "  Training epcoh took: 0:00:04\n",
      "\n",
      "Running Validation...\n",
      "  Accuracy: 0.73\n",
      "  Validation Loss: 0.83\n",
      "  Validation took: 0:00:00\n",
      "\n",
      "======== Epoch 9 / 10 ========\n",
      "Training...\n",
      "\n",
      "  Average training loss: 0.48\n",
      "  Training epcoh took: 0:00:04\n",
      "\n",
      "Running Validation...\n",
      "  Accuracy: 0.76\n",
      "  Validation Loss: 0.79\n",
      "  Validation took: 0:00:00\n",
      "\n",
      "======== Epoch 10 / 10 ========\n",
      "Training...\n",
      "\n",
      "  Average training loss: 0.46\n",
      "  Training epcoh took: 0:00:04\n",
      "\n",
      "Running Validation...\n",
      "  Accuracy: 0.76\n",
      "  Validation Loss: 0.78\n",
      "  Validation took: 0:00:00\n",
      "\n",
      "Training complete!\n",
      "Total training took 0:00:44 (h:mm:ss)\n"
     ]
    }
   ],
   "source": [
    "import random\n",
    "import numpy as np\n",
    "\n",
    "# import os\n",
    "# os.environ['CUDA_LAUNCH_BLOCKING'] = '1'\n",
    "# device = \"cpu\"\n",
    "\n",
    "# 以下训练代码是基于 `run_glue.py` 脚本:\n",
    "# https://github.com/huggingface/transformers/blob/5bfcd0485ece086ebcbed2d008813037968a9e58/examples/run_glue.py#L128\n",
    "\n",
    "# 设定随机种子值，以确保输出是确定的\n",
    "seed_val = 42\n",
    "\n",
    "random.seed(seed_val)\n",
    "np.random.seed(seed_val)\n",
    "torch.manual_seed(seed_val)\n",
    "torch.cuda.manual_seed_all(seed_val)\n",
    "\n",
    "# 存储训练和评估的 loss、准确率、训练时长等统计指标, \n",
    "training_stats = []\n",
    "\n",
    "# 统计整个训练时长\n",
    "total_t0 = time.time()\n",
    "\n",
    "for epoch_i in range(0, epochs):\n",
    "    \n",
    "    # ========================================\n",
    "    #               Training\n",
    "    # ========================================\n",
    "    \n",
    "\n",
    "    print(\"\")\n",
    "    print('======== Epoch {:} / {:} ========'.format(epoch_i + 1, epochs))\n",
    "    print('Training...')\n",
    "\n",
    "    # 统计单次 epoch 的训练时间\n",
    "    t0 = time.time()\n",
    "\n",
    "    # 重置每次 epoch 的训练总 loss\n",
    "    total_train_loss = 0\n",
    "\n",
    "    # 将模型设置为训练模式。这里并不是调用训练接口的意思\n",
    "    # dropout、batchnorm 层在训练和测试模式下的表现是不同的 (source: https://stackoverflow.com/questions/51433378/what-does-model-train-do-in-pytorch)\n",
    "    model.train()\n",
    "\n",
    "    # 训练集小批量迭代\n",
    "    for step, batch in enumerate(train_dataloader):\n",
    "\n",
    "        # 每经过40次迭代，就输出进度信息\n",
    "        if step % 40 == 0 and not step == 0:\n",
    "            elapsed = format_time(time.time() - t0)\n",
    "            print('  Batch {:>5,}  of  {:>5,}.    Elapsed: {:}.'.format(step, len(train_dataloader), elapsed))\n",
    "\n",
    "        # 准备输入数据，并将其拷贝到 gpu 中\n",
    "        # print(batch[0])\n",
    "        # print(batch[1])\n",
    "        # print(batch[2])\n",
    "        b_input_ids = batch[0].to(device)\n",
    "        b_input_mask = batch[1].to(device)\n",
    "        b_labels = batch[2].to(device)\n",
    "\n",
    "        # 每次计算梯度前，都需要将梯度清 0，因为 pytorch 的梯度是累加的\n",
    "        model.zero_grad()        \n",
    "\n",
    "        # 前向传播\n",
    "        # 文档参见: \n",
    "        # https://huggingface.co/transformers/v2.2.0/model_doc/bert.html#transformers.BertForSequenceClassification\n",
    "        # 该函数会根据不同的参数，会返回不同的值。 本例中, 会返回 loss 和 logits -- 模型的预测结果\n",
    "        outputs = model(b_input_ids, \n",
    "                             token_type_ids=None, \n",
    "                             attention_mask=b_input_mask, \n",
    "                             labels=b_labels)\n",
    "\n",
    "        loss = outputs.loss\n",
    "        logits = outputs.logits\n",
    "        # 累加 loss\n",
    "        total_train_loss += loss.item()\n",
    "\n",
    "        # 反向传播\n",
    "        loss.backward()\n",
    "\n",
    "        # 梯度裁剪，避免出现梯度爆炸情况\n",
    "        torch.nn.utils.clip_grad_norm_(model.parameters(), 1.0)\n",
    "\n",
    "        # 更新参数\n",
    "        optimizer.step()\n",
    "\n",
    "        # 更新学习率\n",
    "        scheduler.step()\n",
    "\n",
    "    # 平均训练误差\n",
    "    avg_train_loss = total_train_loss / len(train_dataloader)            \n",
    "    \n",
    "    # 单次 epoch 的训练时长\n",
    "    training_time = format_time(time.time() - t0)\n",
    "\n",
    "    print(\"\")\n",
    "    print(\"  Average training loss: {0:.2f}\".format(avg_train_loss))\n",
    "    print(\"  Training epcoh took: {:}\".format(training_time))\n",
    "        \n",
    "    # ========================================\n",
    "    #               Validation\n",
    "    # ========================================\n",
    "    # 完成一次 epoch 训练后，就对该模型的性能进行验证\n",
    "\n",
    "    print(\"\")\n",
    "    print(\"Running Validation...\")\n",
    "\n",
    "    t0 = time.time()\n",
    "\n",
    "    # 设置模型为评估模式\n",
    "    model.eval()\n",
    "\n",
    "    # Tracking variables \n",
    "    total_eval_accuracy = 0\n",
    "    total_eval_loss = 0\n",
    "    nb_eval_steps = 0\n",
    "\n",
    "    # Evaluate data for one epoch\n",
    "    for batch in validation_dataloader:\n",
    "        \n",
    "        # 将输入数据加载到 gpu 中\n",
    "        b_input_ids = batch[0].to(device)\n",
    "        b_input_mask = batch[1].to(device)\n",
    "        b_labels = batch[2].to(device)\n",
    "        \n",
    "        # 评估的时候不需要更新参数、计算梯度\n",
    "        with torch.no_grad():        \n",
    "            outputs= model(b_input_ids, \n",
    "                                   token_type_ids=None, \n",
    "                                   attention_mask=b_input_mask,\n",
    "                                   labels=b_labels)\n",
    "        loss = outputs.loss\n",
    "        logits = outputs.logits\n",
    "        # 累加 loss\n",
    "        total_eval_loss += loss.item()\n",
    "\n",
    "        # 将预测结果和 labels 加载到 cpu 中计算\n",
    "        logits = logits.detach().cpu().numpy()\n",
    "        label_ids = b_labels.to('cpu').numpy()\n",
    "\n",
    "        # 计算准确率\n",
    "        total_eval_accuracy += flat_accuracy(logits, label_ids)\n",
    "        \n",
    "\n",
    "    # 打印本次 epoch 的准确率\n",
    "    avg_val_accuracy = total_eval_accuracy / len(validation_dataloader)\n",
    "    print(\"  Accuracy: {0:.2f}\".format(avg_val_accuracy))\n",
    "\n",
    "    # 统计本次 epoch 的 loss\n",
    "    avg_val_loss = total_eval_loss / len(validation_dataloader)\n",
    "    \n",
    "    # 统计本次评估的时长\n",
    "    validation_time = format_time(time.time() - t0)\n",
    "    \n",
    "    print(\"  Validation Loss: {0:.2f}\".format(avg_val_loss))\n",
    "    print(\"  Validation took: {:}\".format(validation_time))\n",
    "\n",
    "    # 记录本次 epoch 的所有统计信息\n",
    "    training_stats.append(\n",
    "        {\n",
    "            'epoch': epoch_i + 1,\n",
    "            'Training Loss': avg_train_loss,\n",
    "            'Valid. Loss': avg_val_loss,\n",
    "            'Valid. Accur.': avg_val_accuracy,\n",
    "            'Training Time': training_time,\n",
    "            'Validation Time': validation_time\n",
    "        }\n",
    "    )\n",
    "\n",
    "print(\"\")\n",
    "print(\"Training complete!\")\n",
    "print(\"Total training took {:} (h:mm:ss)\".format(format_time(time.time()-total_t0)))"
   ]
  },
  {
   "cell_type": "code",
   "execution_count": 34,
   "metadata": {},
   "outputs": [],
   "source": [
    "# 保存模型\n",
    "model.save_pretrained(\"/home/xuhu/project/littool/models/bert_multiclass_model\")"
   ]
  },
  {
   "cell_type": "code",
   "execution_count": 29,
   "metadata": {},
   "outputs": [
    {
     "data": {
      "text/html": [
       "<div>\n",
       "<style scoped>\n",
       "    .dataframe tbody tr th:only-of-type {\n",
       "        vertical-align: middle;\n",
       "    }\n",
       "\n",
       "    .dataframe tbody tr th {\n",
       "        vertical-align: top;\n",
       "    }\n",
       "\n",
       "    .dataframe thead th {\n",
       "        text-align: right;\n",
       "    }\n",
       "</style>\n",
       "<table border=\"1\" class=\"dataframe\">\n",
       "  <thead>\n",
       "    <tr style=\"text-align: right;\">\n",
       "      <th></th>\n",
       "      <th>Training Loss</th>\n",
       "      <th>Valid. Loss</th>\n",
       "      <th>Valid. Accur.</th>\n",
       "      <th>Training Time</th>\n",
       "      <th>Validation Time</th>\n",
       "    </tr>\n",
       "    <tr>\n",
       "      <th>epoch</th>\n",
       "      <th></th>\n",
       "      <th></th>\n",
       "      <th></th>\n",
       "      <th></th>\n",
       "      <th></th>\n",
       "    </tr>\n",
       "  </thead>\n",
       "  <tbody>\n",
       "    <tr>\n",
       "      <th>1</th>\n",
       "      <td>1.460435</td>\n",
       "      <td>1.470940</td>\n",
       "      <td>0.564583</td>\n",
       "      <td>0:00:04</td>\n",
       "      <td>0:00:00</td>\n",
       "    </tr>\n",
       "    <tr>\n",
       "      <th>2</th>\n",
       "      <td>1.193417</td>\n",
       "      <td>1.271089</td>\n",
       "      <td>0.565625</td>\n",
       "      <td>0:00:04</td>\n",
       "      <td>0:00:00</td>\n",
       "    </tr>\n",
       "    <tr>\n",
       "      <th>3</th>\n",
       "      <td>1.019542</td>\n",
       "      <td>1.079537</td>\n",
       "      <td>0.693750</td>\n",
       "      <td>0:00:04</td>\n",
       "      <td>0:00:00</td>\n",
       "    </tr>\n",
       "    <tr>\n",
       "      <th>4</th>\n",
       "      <td>0.852172</td>\n",
       "      <td>0.989849</td>\n",
       "      <td>0.678125</td>\n",
       "      <td>0:00:04</td>\n",
       "      <td>0:00:00</td>\n",
       "    </tr>\n",
       "    <tr>\n",
       "      <th>5</th>\n",
       "      <td>0.726387</td>\n",
       "      <td>0.942658</td>\n",
       "      <td>0.711458</td>\n",
       "      <td>0:00:04</td>\n",
       "      <td>0:00:00</td>\n",
       "    </tr>\n",
       "    <tr>\n",
       "      <th>6</th>\n",
       "      <td>0.647827</td>\n",
       "      <td>0.911686</td>\n",
       "      <td>0.712500</td>\n",
       "      <td>0:00:04</td>\n",
       "      <td>0:00:00</td>\n",
       "    </tr>\n",
       "    <tr>\n",
       "      <th>7</th>\n",
       "      <td>0.568660</td>\n",
       "      <td>0.815134</td>\n",
       "      <td>0.727083</td>\n",
       "      <td>0:00:04</td>\n",
       "      <td>0:00:00</td>\n",
       "    </tr>\n",
       "    <tr>\n",
       "      <th>8</th>\n",
       "      <td>0.527695</td>\n",
       "      <td>0.826824</td>\n",
       "      <td>0.727083</td>\n",
       "      <td>0:00:04</td>\n",
       "      <td>0:00:00</td>\n",
       "    </tr>\n",
       "    <tr>\n",
       "      <th>9</th>\n",
       "      <td>0.484222</td>\n",
       "      <td>0.794626</td>\n",
       "      <td>0.758333</td>\n",
       "      <td>0:00:04</td>\n",
       "      <td>0:00:00</td>\n",
       "    </tr>\n",
       "    <tr>\n",
       "      <th>10</th>\n",
       "      <td>0.461443</td>\n",
       "      <td>0.783636</td>\n",
       "      <td>0.758333</td>\n",
       "      <td>0:00:04</td>\n",
       "      <td>0:00:00</td>\n",
       "    </tr>\n",
       "  </tbody>\n",
       "</table>\n",
       "</div>"
      ],
      "text/plain": [
       "       Training Loss  Valid. Loss  Valid. Accur. Training Time Validation Time\n",
       "epoch                                                                         \n",
       "1           1.460435     1.470940       0.564583       0:00:04         0:00:00\n",
       "2           1.193417     1.271089       0.565625       0:00:04         0:00:00\n",
       "3           1.019542     1.079537       0.693750       0:00:04         0:00:00\n",
       "4           0.852172     0.989849       0.678125       0:00:04         0:00:00\n",
       "5           0.726387     0.942658       0.711458       0:00:04         0:00:00\n",
       "6           0.647827     0.911686       0.712500       0:00:04         0:00:00\n",
       "7           0.568660     0.815134       0.727083       0:00:04         0:00:00\n",
       "8           0.527695     0.826824       0.727083       0:00:04         0:00:00\n",
       "9           0.484222     0.794626       0.758333       0:00:04         0:00:00\n",
       "10          0.461443     0.783636       0.758333       0:00:04         0:00:00"
      ]
     },
     "execution_count": 29,
     "metadata": {},
     "output_type": "execute_result"
    }
   ],
   "source": [
    "import pandas as pd\n",
    "\n",
    "# 保留 2 位小数\n",
    "#pd.set_option('precision', 2)\n",
    "\n",
    "# 加载训练统计到 DataFrame 中\n",
    "df_stats = pd.DataFrame(data=training_stats)\n",
    "\n",
    "# 使用 epoch 值作为每行的索引\n",
    "df_stats = df_stats.set_index('epoch')\n",
    "\n",
    "# 展示表格数据\n",
    "df_stats"
   ]
  },
  {
   "cell_type": "code",
   "execution_count": 32,
   "metadata": {},
   "outputs": [
    {
     "data": {
      "image/png": "[encoded data removed]",
      "text/plain": [
       "<Figure size 864x432 with 1 Axes>"
      ]
     },
     "metadata": {},
     "output_type": "display_data"
    }
   ],
   "source": [
    "import matplotlib.pyplot as plt\n",
    "#% matplotlib inline\n",
    "\n",
    "import seaborn as sns\n",
    "\n",
    "# 绘图风格设置\n",
    "sns.set(style='darkgrid')\n",
    "\n",
    "# Increase the plot size and font size.\n",
    "sns.set(font_scale=1.5)\n",
    "plt.rcParams[\"figure.figsize\"] = (12,6)\n",
    "\n",
    "# 绘制学习曲线\n",
    "plt.plot(df_stats['Training Loss'], 'b-o', label=\"Training\")\n",
    "plt.plot(df_stats['Valid. Loss'], 'g-o', label=\"Validation\")\n",
    "\n",
    "# Label the plot.\n",
    "plt.title(\"Training & Validation Loss\")\n",
    "plt.xlabel(\"Epoch\")\n",
    "plt.ylabel(\"Loss\")\n",
    "plt.legend()\n",
    "plt.xticks([1, 2, 3, 4])\n",
    "\n",
    "plt.show()"
   ]
  },
  {
   "cell_type": "code",
   "execution_count": 36,
   "metadata": {},
   "outputs": [
    {
     "name": "stdout",
     "output_type": "stream",
     "text": [
      "Predicted Class: 0\n",
      "Probabilities: [0.9502924680709839, 0.006528203375637531, 0.004167529754340649, 0.004886887967586517, 0.008691426366567612, 0.007228819653391838, 0.004670186433941126, 0.00602593831717968, 0.00750849349424243]\n"
     ]
    }
   ],
   "source": [
    "device = \"cpu\"\n",
    "\n",
    "# 加载微调后的模型和分词器\n",
    "model = BertForSequenceClassification.from_pretrained(\"/home/xuhu/project/littool/models/bert_multiclass_model\")\n",
    "tokenizer = BertTokenizer.from_pretrained(\"/home/xuhu/project/littool/bert-base-uncased\")\n",
    "\n",
    "# 设置模型为评估模式\n",
    "model.eval()\n",
    "\n",
    "# 输入文本进行预测\n",
    "def predict(text):\n",
    "    inputs = tokenizer(text, return_tensors=\"pt\", max_length=128, truncation=True)\n",
    "    input_ids = inputs[\"input_ids\"].to(device)\n",
    "    attention_mask = inputs[\"attention_mask\"].to(device)\n",
    "\n",
    "    with torch.no_grad():\n",
    "        outputs = model(input_ids, attention_mask=attention_mask)\n",
    "\n",
    "    logits = outputs.logits\n",
    "    probabilities = torch.softmax(logits, dim=1)\n",
    "    predicted_class = torch.argmax(probabilities, dim=1).item()\n",
    "\n",
    "    return predicted_class, probabilities[0].tolist()\n",
    "\n",
    "# 例子\n",
    "text_to_predict = \"Across a few prohibitive miles: The impact of the Anti-Poverty Relocation Program in China\"\n",
    "predicted_class, probabilities = predict(text_to_predict)\n",
    "\n",
    "print(f\"Predicted Class: {predicted_class}\")\n",
    "print(f\"Probabilities: {probabilities}\")\n"
   ]
  },
  {
   "cell_type": "code",
   "execution_count": null,
   "metadata": {},
   "outputs": [],
   "source": []
  },
  {
   "cell_type": "code",
   "execution_count": null,
   "metadata": {},
   "outputs": [],
   "source": []
  },
  {
   "cell_type": "code",
   "execution_count": 5,
   "metadata": {},
   "outputs": [],
   "source": [
    "# class CustomDataset(Dataset):\n",
    "#     def __init__(self, sentences, labels):\n",
    "#         self.sentences = sentences\n",
    "#         self.labels = labels\n",
    "\n",
    "#     def __len__(self):\n",
    "#         return len(self.labels)\n",
    "\n",
    "#     def __getitem__(self, idx):\n",
    "#         encoding = self.tokenize_and_pad(self.sentences[idx], max_length=128)\n",
    "#         label = torch.tensor(self.labels[idx])\n",
    "#         return {'input_ids': encoding, 'labels': label}\n",
    "\n",
    "#     def tokenize_and_pad(self, sentence, max_length):\n",
    "#         tokens = tokenizer.tokenize(tokenizer.decode(tokenizer.encode(sentence)))\n",
    "#         if len(tokens) > max_length:\n",
    "#             tokens = tokens[:max_length]\n",
    "#         else:\n",
    "#             tokens += ['[PAD]'] * (max_length - len(tokens))\n",
    "#         return tokenizer.convert_tokens_to_ids(tokens)\n"
   ]
  },
  {
   "cell_type": "code",
   "execution_count": 6,
   "metadata": {},
   "outputs": [],
   "source": [
    "# # 创建数据集和数据加载器\n",
    "# train_dataset = CustomDataset(train_data['sentences'].tolist(), train_data['labels'].tolist())\n",
    "# val_dataset = CustomDataset(val_data['sentences'].tolist(), val_data['labels'].tolist())\n",
    "\n",
    "# from torch.nn.utils.rnn import pad_sequence\n",
    "\n",
    "# train_loader = DataLoader(train_dataset, batch_size=8, shuffle=True, collate_fn=lambda batch: {'input_ids': pad_sequence([torch.tensor(item['input_ids']) for item in batch], batch_first=True), 'labels': torch.stack([item['labels'] for item in batch])})\n",
    "# val_loader = DataLoader(val_dataset, batch_size=8, shuffle=False, collate_fn=lambda batch: {'input_ids': pad_sequence([torch.tensor(item['input_ids']) for item in batch], batch_first=True), 'labels': torch.stack([item['labels'] for item in batch])})\n"
   ]
  },
  {
   "cell_type": "code",
   "execution_count": 7,
   "metadata": {},
   "outputs": [
    {
     "name": "stderr",
     "output_type": "stream",
     "text": [
      "/home/xuhu/miniconda3/envs/peppi/lib/python3.8/site-packages/transformers/optimization.py:429: FutureWarning: This implementation of AdamW is deprecated and will be removed in a future version. Use the PyTorch implementation torch.optim.AdamW instead, or set `no_deprecation_warning=True` to disable this warning\n",
      "  warnings.warn(\n"
     ]
    }
   ],
   "source": [
    "# # 定义优化器和学习率调度器\n",
    "# optimizer = AdamW(model.parameters(), lr=2e-5)\n",
    "# scheduler = get_linear_schedule_with_warmup(optimizer, num_warmup_steps=0, num_training_steps=len(train_loader) * 5)"
   ]
  },
  {
   "cell_type": "code",
   "execution_count": 9,
   "metadata": {},
   "outputs": [
    {
     "name": "stderr",
     "output_type": "stream",
     "text": [
      "Epoch 1/20:   0%|          | 0/62 [00:00<?, ?it/s]"
     ]
    },
    {
     "name": "stderr",
     "output_type": "stream",
     "text": [
      "Epoch 1/20: 100%|██████████| 62/62 [00:11<00:00,  5.50it/s]\n",
      "Validation: 100%|██████████| 16/16 [00:02<00:00,  6.45it/s]\n"
     ]
    },
    {
     "name": "stdout",
     "output_type": "stream",
     "text": [
      "Validation Accuracy: 0.7580645161290323\n",
      "Average Validation Loss: 0.8317735958844423\n",
      "Validation Perplexity: 2.2973897457122803\n"
     ]
    },
    {
     "name": "stderr",
     "output_type": "stream",
     "text": [
      "Epoch 2/20: 100%|██████████| 62/62 [00:10<00:00,  5.75it/s]\n",
      "Validation: 100%|██████████| 16/16 [00:02<00:00,  7.24it/s]\n"
     ]
    },
    {
     "name": "stdout",
     "output_type": "stream",
     "text": [
      "Validation Accuracy: 0.7580645161290323\n",
      "Average Validation Loss: 0.8317735958844423\n",
      "Validation Perplexity: 2.2973897457122803\n"
     ]
    },
    {
     "name": "stderr",
     "output_type": "stream",
     "text": [
      "Epoch 3/20: 100%|██████████| 62/62 [00:11<00:00,  5.22it/s]\n",
      "Validation: 100%|██████████| 16/16 [00:02<00:00,  6.26it/s]\n"
     ]
    },
    {
     "name": "stdout",
     "output_type": "stream",
     "text": [
      "Validation Accuracy: 0.7580645161290323\n",
      "Average Validation Loss: 0.8317735958844423\n",
      "Validation Perplexity: 2.2973897457122803\n"
     ]
    },
    {
     "name": "stderr",
     "output_type": "stream",
     "text": [
      "Epoch 4/20: 100%|██████████| 62/62 [00:11<00:00,  5.44it/s]\n",
      "Validation: 100%|██████████| 16/16 [00:02<00:00,  5.98it/s]\n"
     ]
    },
    {
     "name": "stdout",
     "output_type": "stream",
     "text": [
      "Validation Accuracy: 0.7580645161290323\n",
      "Average Validation Loss: 0.8317735958844423\n",
      "Validation Perplexity: 2.2973897457122803\n"
     ]
    },
    {
     "name": "stderr",
     "output_type": "stream",
     "text": [
      "Epoch 5/20: 100%|██████████| 62/62 [00:11<00:00,  5.61it/s]\n",
      "Validation: 100%|██████████| 16/16 [00:02<00:00,  5.79it/s]\n"
     ]
    },
    {
     "name": "stdout",
     "output_type": "stream",
     "text": [
      "Validation Accuracy: 0.7580645161290323\n",
      "Average Validation Loss: 0.8317735958844423\n",
      "Validation Perplexity: 2.2973897457122803\n"
     ]
    },
    {
     "name": "stderr",
     "output_type": "stream",
     "text": [
      "Epoch 6/20: 100%|██████████| 62/62 [00:10<00:00,  5.65it/s]\n",
      "Validation: 100%|██████████| 16/16 [00:02<00:00,  6.60it/s]\n"
     ]
    },
    {
     "name": "stdout",
     "output_type": "stream",
     "text": [
      "Validation Accuracy: 0.7580645161290323\n",
      "Average Validation Loss: 0.8317735958844423\n",
      "Validation Perplexity: 2.2973897457122803\n"
     ]
    },
    {
     "name": "stderr",
     "output_type": "stream",
     "text": [
      "Epoch 7/20: 100%|██████████| 62/62 [00:10<00:00,  5.72it/s]\n",
      "Validation: 100%|██████████| 16/16 [00:02<00:00,  5.90it/s]\n"
     ]
    },
    {
     "name": "stdout",
     "output_type": "stream",
     "text": [
      "Validation Accuracy: 0.7580645161290323\n",
      "Average Validation Loss: 0.8317735958844423\n",
      "Validation Perplexity: 2.2973897457122803\n"
     ]
    },
    {
     "name": "stderr",
     "output_type": "stream",
     "text": [
      "Epoch 8/20: 100%|██████████| 62/62 [00:11<00:00,  5.31it/s]\n",
      "Validation: 100%|██████████| 16/16 [00:02<00:00,  7.24it/s]\n"
     ]
    },
    {
     "name": "stdout",
     "output_type": "stream",
     "text": [
      "Validation Accuracy: 0.7580645161290323\n",
      "Average Validation Loss: 0.8317735958844423\n",
      "Validation Perplexity: 2.2973897457122803\n"
     ]
    },
    {
     "name": "stderr",
     "output_type": "stream",
     "text": [
      "Epoch 9/20: 100%|██████████| 62/62 [00:11<00:00,  5.48it/s]\n",
      "Validation: 100%|██████████| 16/16 [00:02<00:00,  6.10it/s]\n"
     ]
    },
    {
     "name": "stdout",
     "output_type": "stream",
     "text": [
      "Validation Accuracy: 0.7580645161290323\n",
      "Average Validation Loss: 0.8317735958844423\n",
      "Validation Perplexity: 2.2973897457122803\n"
     ]
    },
    {
     "name": "stderr",
     "output_type": "stream",
     "text": [
      "Epoch 10/20: 100%|██████████| 62/62 [00:11<00:00,  5.48it/s]\n",
      "Validation: 100%|██████████| 16/16 [00:02<00:00,  6.99it/s]\n"
     ]
    },
    {
     "name": "stdout",
     "output_type": "stream",
     "text": [
      "Validation Accuracy: 0.7580645161290323\n",
      "Average Validation Loss: 0.8317735958844423\n",
      "Validation Perplexity: 2.2973897457122803\n"
     ]
    },
    {
     "name": "stderr",
     "output_type": "stream",
     "text": [
      "Epoch 11/20: 100%|██████████| 62/62 [00:11<00:00,  5.57it/s]\n",
      "Validation: 100%|██████████| 16/16 [00:02<00:00,  6.48it/s]\n"
     ]
    },
    {
     "name": "stdout",
     "output_type": "stream",
     "text": [
      "Validation Accuracy: 0.7580645161290323\n",
      "Average Validation Loss: 0.8317735958844423\n",
      "Validation Perplexity: 2.2973897457122803\n"
     ]
    },
    {
     "name": "stderr",
     "output_type": "stream",
     "text": [
      "Epoch 12/20: 100%|██████████| 62/62 [00:11<00:00,  5.47it/s]\n",
      "Validation: 100%|██████████| 16/16 [00:02<00:00,  6.28it/s]\n"
     ]
    },
    {
     "name": "stdout",
     "output_type": "stream",
     "text": [
      "Validation Accuracy: 0.7580645161290323\n",
      "Average Validation Loss: 0.8317735958844423\n",
      "Validation Perplexity: 2.2973897457122803\n"
     ]
    },
    {
     "name": "stderr",
     "output_type": "stream",
     "text": [
      "Epoch 13/20: 100%|██████████| 62/62 [00:10<00:00,  6.11it/s]\n",
      "Validation: 100%|██████████| 16/16 [00:02<00:00,  6.88it/s]\n"
     ]
    },
    {
     "name": "stdout",
     "output_type": "stream",
     "text": [
      "Validation Accuracy: 0.7580645161290323\n",
      "Average Validation Loss: 0.8317735958844423\n",
      "Validation Perplexity: 2.2973897457122803\n"
     ]
    },
    {
     "name": "stderr",
     "output_type": "stream",
     "text": [
      "Epoch 14/20: 100%|██████████| 62/62 [00:10<00:00,  5.74it/s]\n",
      "Validation: 100%|██████████| 16/16 [00:02<00:00,  5.50it/s]\n"
     ]
    },
    {
     "name": "stdout",
     "output_type": "stream",
     "text": [
      "Validation Accuracy: 0.7580645161290323\n",
      "Average Validation Loss: 0.8317735958844423\n",
      "Validation Perplexity: 2.2973897457122803\n"
     ]
    },
    {
     "name": "stderr",
     "output_type": "stream",
     "text": [
      "Epoch 15/20: 100%|██████████| 62/62 [00:11<00:00,  5.61it/s]\n",
      "Validation: 100%|██████████| 16/16 [00:02<00:00,  6.01it/s]\n"
     ]
    },
    {
     "name": "stdout",
     "output_type": "stream",
     "text": [
      "Validation Accuracy: 0.7580645161290323\n",
      "Average Validation Loss: 0.8317735958844423\n",
      "Validation Perplexity: 2.2973897457122803\n"
     ]
    },
    {
     "name": "stderr",
     "output_type": "stream",
     "text": [
      "Epoch 16/20: 100%|██████████| 62/62 [00:12<00:00,  5.13it/s]\n",
      "Validation: 100%|██████████| 16/16 [00:02<00:00,  7.36it/s]\n"
     ]
    },
    {
     "name": "stdout",
     "output_type": "stream",
     "text": [
      "Validation Accuracy: 0.7580645161290323\n",
      "Average Validation Loss: 0.8317735958844423\n",
      "Validation Perplexity: 2.2973897457122803\n"
     ]
    },
    {
     "name": "stderr",
     "output_type": "stream",
     "text": [
      "Epoch 17/20: 100%|██████████| 62/62 [00:11<00:00,  5.44it/s]\n",
      "Validation: 100%|██████████| 16/16 [00:02<00:00,  6.27it/s]\n"
     ]
    },
    {
     "name": "stdout",
     "output_type": "stream",
     "text": [
      "Validation Accuracy: 0.7580645161290323\n",
      "Average Validation Loss: 0.8317735958844423\n",
      "Validation Perplexity: 2.2973897457122803\n"
     ]
    },
    {
     "name": "stderr",
     "output_type": "stream",
     "text": [
      "Epoch 18/20: 100%|██████████| 62/62 [00:11<00:00,  5.42it/s]\n",
      "Validation: 100%|██████████| 16/16 [00:02<00:00,  6.66it/s]\n"
     ]
    },
    {
     "name": "stdout",
     "output_type": "stream",
     "text": [
      "Validation Accuracy: 0.7580645161290323\n",
      "Average Validation Loss: 0.8317735958844423\n",
      "Validation Perplexity: 2.2973897457122803\n"
     ]
    },
    {
     "name": "stderr",
     "output_type": "stream",
     "text": [
      "Epoch 19/20: 100%|██████████| 62/62 [00:12<00:00,  5.15it/s]\n",
      "Validation: 100%|██████████| 16/16 [00:02<00:00,  5.95it/s]\n"
     ]
    },
    {
     "name": "stdout",
     "output_type": "stream",
     "text": [
      "Validation Accuracy: 0.7580645161290323\n",
      "Average Validation Loss: 0.8317735958844423\n",
      "Validation Perplexity: 2.2973897457122803\n"
     ]
    },
    {
     "name": "stderr",
     "output_type": "stream",
     "text": [
      "Epoch 20/20: 100%|██████████| 62/62 [00:11<00:00,  5.53it/s]\n",
      "Validation: 100%|██████████| 16/16 [00:02<00:00,  6.80it/s]\n"
     ]
    },
    {
     "name": "stdout",
     "output_type": "stream",
     "text": [
      "Validation Accuracy: 0.7580645161290323\n",
      "Average Validation Loss: 0.8317735958844423\n",
      "Validation Perplexity: 2.2973897457122803\n"
     ]
    }
   ],
   "source": [
    "# # 训练模型\n",
    "# device = torch.device('cuda' if torch.cuda.is_available() else 'cpu')\n",
    "# model.to(device)\n",
    "\n",
    "# num_epochs = 20\n",
    "# for epoch in range(num_epochs):\n",
    "#     model.train()\n",
    "#     for batch in tqdm(train_loader, desc=f'Epoch {epoch + 1}/{num_epochs}'):\n",
    "#         try:\n",
    "#             inputs = {key: tensor.to(device) for key, tensor in batch.items() if key != 'labels'}\n",
    "#             labels = batch['labels'].to(device)\n",
    "#         except Exception as e:\n",
    "#             print(\"Error during training batch processing:\", e)\n",
    "#             print(\"Batch contents:\", batch)\n",
    "#             continue\n",
    "\n",
    "#         optimizer.zero_grad()\n",
    "#         outputs = model(**inputs, labels=labels)\n",
    "#         loss = outputs.loss\n",
    "#         loss.backward()\n",
    "#         optimizer.step()\n",
    "#         scheduler.step()\n",
    "\n",
    "#     # 在验证集上评估模型\n",
    "#     model.eval()\n",
    "#     val_loss = 0.0  # 用于累积验证集上的损失\n",
    "#     val_preds = []\n",
    "#     val_labels = []\n",
    "\n",
    "#     with torch.no_grad():\n",
    "#         for val_batch in tqdm(val_loader, desc='Validation'):\n",
    "#             try:\n",
    "#                 val_inputs = {key: tensor.to(device) for key, tensor in val_batch.items() if key != 'labels'}\n",
    "#                 val_batch_labels = val_batch['labels'].to(device)\n",
    "#             except Exception as e:\n",
    "#                 print(\"Error during validation batch processing:\", e)\n",
    "#                 print(\"Batch contents:\", val_batch)\n",
    "#                 continue\n",
    "\n",
    "#             val_outputs = model(**val_inputs)\n",
    "#             logits = val_outputs.logits\n",
    "#             loss = model(**val_inputs, labels=val_batch_labels).loss  # 计算交叉熵损失\n",
    "#             val_loss += loss.item()  # 累积损失\n",
    "\n",
    "#             preds = torch.argmax(logits, dim=1).cpu().numpy()\n",
    "#             val_preds.extend(preds)\n",
    "#             val_labels.extend(val_batch_labels.cpu().numpy())\n",
    "\n",
    "#     # 计算平均验证损失和困惑度\n",
    "#     average_val_loss = val_loss / len(val_loader)\n",
    "#     perplexity = torch.exp(torch.tensor(average_val_loss)).item()\n",
    "\n",
    "#     accuracy = accuracy_score(val_labels, val_preds)\n",
    "#     print(f'Validation Accuracy: {accuracy}')\n",
    "#     print(f'Average Validation Loss: {average_val_loss}')\n",
    "#     print(f'Validation Perplexity: {perplexity}')\n",
    "\n",
    "# # 保存模型\n",
    "# model.save_pretrained(\"/home/xuhu/project/littool/models/bert_multiclass_model\")\n"
   ]
  },
  {
   "cell_type": "markdown",
   "metadata": {},
   "source": [
    "# predict"
   ]
  },
  {
   "cell_type": "code",
   "execution_count": 18,
   "metadata": {},
   "outputs": [
    {
     "name": "stdout",
     "output_type": "stream",
     "text": [
      "tensor([[-0.8725,  0.5693, -0.5476,  0.1814, -0.8596,  0.1262,  0.1002,  0.2807,\n",
      "         -0.1814]], device='cuda:0')\n",
      "Predicted Label: 1\n"
     ]
    }
   ],
   "source": [
    "# def predict(model, tokenizer, text, max_length=128):\n",
    "#     model.eval()\n",
    "    \n",
    "#     # 使用与训练时相同的方法来处理输入文本\n",
    "#     encoding = tokenizer(text, return_tensors='pt', truncation=True, max_length=max_length)\n",
    "    \n",
    "#     # 将输入移到设备（GPU 或 CPU）\n",
    "#     inputs = {key: tensor.to(device) for key, tensor in encoding.items()}\n",
    "    \n",
    "#     # 使用模型进行预测\n",
    "#     with torch.no_grad():\n",
    "#         outputs = model(**inputs)\n",
    "    \n",
    "#     # 获取预测的标签\n",
    "#     logits = outputs.logits\n",
    "#     print(logits)\n",
    "#     predicted_label = torch.argmax(logits, dim=1).item()\n",
    "    \n",
    "#     return predicted_label\n",
    "\n",
    "# # 例子\n",
    "# input_text = \"Across a few prohibitive miles: The impact of the Anti-Poverty Relocation Program in China\"\n",
    "# predicted_label = predict(model, tokenizer, input_text)\n",
    "# print(f'Predicted Label: {predicted_label}')\n"
   ]
  },
  {
   "cell_type": "code",
   "execution_count": null,
   "metadata": {},
   "outputs": [],
   "source": []
  }
 ],
 "metadata": {
  "kernelspec": {
   "display_name": "base",
   "language": "python",
   "name": "python3"
  },
  "language_info": {
   "codemirror_mode": {
    "name": "ipython",
    "version": 3
   },
   "file_extension": ".py",
   "mimetype": "text/x-python",
   "name": "python",
   "nbconvert_exporter": "python",
   "pygments_lexer": "ipython3",
   "version": "3.8.13"
  }
 },
 "nbformat": 4,
 "nbformat_minor": 2
}
